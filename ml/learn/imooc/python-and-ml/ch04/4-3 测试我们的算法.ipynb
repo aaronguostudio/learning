{
 "cells": [
  {
   "cell_type": "markdown",
   "metadata": {},
   "source": [
    "# 测试我们的算法"
   ]
  },
  {
   "cell_type": "code",
   "execution_count": 7,
   "metadata": {},
   "outputs": [],
   "source": [
    "import numpy as np\n",
    "import matplotlib.pyplot as plt\n",
    "from sklearn import datasets\n",
    "iris = datasets.load_iris()\n",
    "X = iris.data\n",
    "y = iris.target"
   ]
  },
  {
   "cell_type": "code",
   "execution_count": 3,
   "metadata": {},
   "outputs": [
    {
     "data": {
      "text/plain": [
       "(150, 4)"
      ]
     },
     "execution_count": 3,
     "metadata": {},
     "output_type": "execute_result"
    }
   ],
   "source": [
    "X.shape"
   ]
  },
  {
   "cell_type": "code",
   "execution_count": 5,
   "metadata": {},
   "outputs": [
    {
     "data": {
      "text/plain": [
       "(150,)"
      ]
     },
     "execution_count": 5,
     "metadata": {},
     "output_type": "execute_result"
    }
   ],
   "source": [
    "y.shape"
   ]
  },
  {
   "cell_type": "markdown",
   "metadata": {},
   "source": [
    "### train test split"
   ]
  },
  {
   "cell_type": "code",
   "execution_count": 15,
   "metadata": {},
   "outputs": [
    {
     "name": "stdout",
     "output_type": "stream",
     "text": [
      "[ 84  37  65 109  62 116  19 138  77   6  92 101  11  41  24 123 148 130\n",
      "  90   0  16 139  12  94  50  43   2  91 143  31  72 147  70 142  44 117\n",
      "  69  54  13 121 129  89  38 134  68  10  36   5  48  78  45   9  95  73\n",
      "  52 103 133  60  20 100 104 111  88  66  17  32  47 119 127  39 102  21\n",
      "   1 146 118  34  87  51 107  53  42  14 149 125  76 137  61 135 120  63\n",
      " 140  59  74  33 126 122 124  67  55  58  75 110 105  81  56  86  29  80\n",
      "  18  64  46  71  26  25   4  35  83 128 113  22  23  40  98  49  97   8\n",
      "  93 106  57  96  28  82  30 132 144  79   3 114  15 141  27 115 145 108\n",
      "   7  85  99 112 136 131]\n",
      "test_size >  30\n",
      "[[6.3 2.5 4.9 1.5]\n",
      " [6.5 3.  5.2 2. ]\n",
      " [5.9 3.2 4.8 1.8]\n",
      " [5.8 2.7 5.1 1.9]\n",
      " [5.1 3.8 1.9 0.4]\n",
      " [7.7 3.8 6.7 2.2]\n",
      " [5.6 2.5 3.9 1.1]\n",
      " [6.5 2.8 4.6 1.5]\n",
      " [4.3 3.  1.1 0.1]\n",
      " [5.6 2.8 4.9 2. ]\n",
      " [7.2 3.  5.8 1.6]\n",
      " [5.5 2.5 4.  1.3]\n",
      " [4.4 3.  1.3 0.2]\n",
      " [6.1 2.6 5.6 1.4]\n",
      " [6.2 2.2 4.5 1.5]\n",
      " [5.4 3.7 1.5 0.2]\n",
      " [5.5 3.5 1.3 0.2]\n",
      " [5.4 3.9 1.7 0.4]\n",
      " [5.3 3.7 1.5 0.2]\n",
      " [6.  2.9 4.5 1.5]\n",
      " [4.8 3.  1.4 0.3]\n",
      " [4.9 3.1 1.5 0.1]\n",
      " [5.7 3.  4.2 1.2]\n",
      " [6.1 2.8 4.7 1.2]\n",
      " [6.9 3.1 4.9 1.5]\n",
      " [6.3 2.9 5.6 1.8]\n",
      " [6.3 2.8 5.1 1.5]\n",
      " [5.  2.  3.5 1. ]\n",
      " [5.4 3.4 1.7 0.2]\n",
      " [6.3 3.3 6.  2.5]\n",
      " [6.5 3.  5.8 2.2]\n",
      " [6.4 2.7 5.3 1.9]\n",
      " [5.6 3.  4.1 1.3]\n",
      " [5.6 3.  4.5 1.5]\n",
      " [5.1 3.5 1.4 0.3]\n",
      " [5.2 4.1 1.5 0.1]\n",
      " [4.6 3.2 1.4 0.2]\n",
      " [6.  2.2 5.  1.5]\n",
      " [6.1 3.  4.9 1.8]\n",
      " [5.1 3.4 1.5 0.2]\n",
      " [7.1 3.  5.9 2.1]\n",
      " [5.1 3.7 1.5 0.4]\n",
      " [4.9 3.  1.4 0.2]\n",
      " [6.3 2.5 5.  1.9]\n",
      " [7.7 2.6 6.9 2.3]\n",
      " [4.9 3.1 1.5 0.1]\n",
      " [6.3 2.3 4.4 1.3]\n",
      " [6.4 3.2 4.5 1.5]\n",
      " [7.3 2.9 6.3 1.8]\n",
      " [5.5 2.3 4.  1.3]\n",
      " [4.4 3.2 1.3 0.2]\n",
      " [5.8 4.  1.2 0.2]\n",
      " [5.9 3.  5.1 1.8]\n",
      " [7.2 3.2 6.  1.8]\n",
      " [6.8 2.8 4.8 1.4]\n",
      " [6.4 3.1 5.5 1.8]\n",
      " [5.9 3.  4.2 1.5]\n",
      " [7.7 3.  6.1 2.3]\n",
      " [6.9 3.2 5.7 2.3]\n",
      " [6.1 2.9 4.7 1.4]\n",
      " [6.7 3.1 5.6 2.4]\n",
      " [5.2 2.7 3.9 1.4]\n",
      " [6.4 2.9 4.3 1.3]\n",
      " [5.5 4.2 1.4 0.2]\n",
      " [6.2 2.8 4.8 1.8]\n",
      " [7.7 2.8 6.7 2. ]\n",
      " [6.7 3.3 5.7 2.1]\n",
      " [5.8 2.7 4.1 1. ]\n",
      " [5.7 2.8 4.5 1.3]\n",
      " [6.6 2.9 4.6 1.3]\n",
      " [6.6 3.  4.4 1.4]\n",
      " [6.5 3.2 5.1 2. ]\n",
      " [7.6 3.  6.6 2.1]\n",
      " [5.5 2.4 3.7 1. ]\n",
      " [6.3 3.3 4.7 1.6]\n",
      " [6.7 3.1 4.7 1.5]\n",
      " [4.7 3.2 1.6 0.2]\n",
      " [5.5 2.4 3.8 1.1]\n",
      " [5.7 3.8 1.7 0.3]\n",
      " [5.6 2.9 3.6 1.3]\n",
      " [5.1 3.8 1.6 0.2]\n",
      " [6.1 2.8 4.  1.3]\n",
      " [5.  3.4 1.6 0.4]\n",
      " [5.  3.  1.6 0.2]\n",
      " [5.  3.6 1.4 0.2]\n",
      " [5.  3.2 1.2 0.2]\n",
      " [6.  2.7 5.1 1.6]\n",
      " [6.4 2.8 5.6 2.1]\n",
      " [5.7 2.5 5.  2. ]\n",
      " [4.6 3.6 1.  0.2]\n",
      " [5.1 3.3 1.7 0.5]\n",
      " [5.  3.5 1.3 0.3]\n",
      " [5.1 2.5 3.  1.1]\n",
      " [5.  3.3 1.4 0.2]\n",
      " [6.2 2.9 4.3 1.3]\n",
      " [4.4 2.9 1.4 0.2]\n",
      " [5.  2.3 3.3 1. ]\n",
      " [4.9 2.5 4.5 1.7]\n",
      " [4.9 2.4 3.3 1. ]\n",
      " [5.7 2.9 4.2 1.3]\n",
      " [5.2 3.4 1.4 0.2]\n",
      " [5.8 2.7 3.9 1.2]\n",
      " [4.8 3.1 1.6 0.2]\n",
      " [6.4 2.8 5.6 2.2]\n",
      " [6.7 3.3 5.7 2.5]\n",
      " [5.7 2.6 3.5 1. ]\n",
      " [4.6 3.1 1.5 0.2]\n",
      " [5.8 2.8 5.1 2.4]\n",
      " [5.7 4.4 1.5 0.4]\n",
      " [6.9 3.1 5.1 2.3]\n",
      " [5.2 3.5 1.5 0.2]\n",
      " [6.4 3.2 5.3 2.3]\n",
      " [6.7 3.  5.2 2.3]\n",
      " [6.7 2.5 5.8 1.8]\n",
      " [5.  3.4 1.5 0.2]\n",
      " [6.  3.4 4.5 1.6]\n",
      " [5.7 2.8 4.1 1.3]\n",
      " [6.8 3.  5.5 2.1]\n",
      " [6.3 3.4 5.6 2.4]\n",
      " [7.9 3.8 6.4 2. ]]\n",
      "[1 2 1 2 0 2 1 1 0 2 2 1 0 2 1 0 0 0 0 1 0 0 1 1 1 2 2 1 0 2 2 2 1 1 0 0 0\n",
      " 2 2 0 2 0 0 2 2 0 1 1 2 1 0 0 2 2 1 2 1 2 2 1 2 1 1 0 2 2 2 1 1 1 1 2 2 1\n",
      " 1 1 0 1 0 1 0 1 0 0 0 0 1 2 2 0 0 0 1 0 1 0 1 2 1 1 0 1 0 2 2 1 0 2 0 2 0\n",
      " 2 2 2 0 1 1 2 2 2]\n",
      "[[5.4 3.  4.5 1.5]\n",
      " [4.9 3.1 1.5 0.1]\n",
      " [6.7 3.1 4.4 1.4]\n",
      " [7.2 3.6 6.1 2.5]\n",
      " [6.  2.2 4.  1. ]\n",
      " [6.5 3.  5.5 1.8]\n",
      " [5.1 3.8 1.5 0.3]\n",
      " [6.  3.  4.8 1.8]\n",
      " [6.7 3.  5.  1.7]\n",
      " [4.6 3.4 1.4 0.3]\n",
      " [5.8 2.6 4.  1.2]\n",
      " [5.8 2.7 5.1 1.9]\n",
      " [4.8 3.4 1.6 0.2]\n",
      " [4.5 2.3 1.3 0.3]\n",
      " [4.8 3.4 1.9 0.2]\n",
      " [6.3 2.7 4.9 1.8]\n",
      " [6.2 3.4 5.4 2.3]\n",
      " [7.4 2.8 6.1 1.9]\n",
      " [5.5 2.6 4.4 1.2]\n",
      " [5.1 3.5 1.4 0.2]\n",
      " [5.4 3.9 1.3 0.4]\n",
      " [6.9 3.1 5.4 2.1]\n",
      " [4.8 3.  1.4 0.1]\n",
      " [5.6 2.7 4.2 1.3]\n",
      " [7.  3.2 4.7 1.4]\n",
      " [5.  3.5 1.6 0.6]\n",
      " [4.7 3.2 1.3 0.2]\n",
      " [6.1 3.  4.6 1.4]\n",
      " [6.8 3.2 5.9 2.3]\n",
      " [5.4 3.4 1.5 0.4]]\n",
      "[1 0 1 2 1 2 0 2 1 0 1 2 0 0 0 2 2 2 1 0 0 2 0 1 1 0 0 1 2 0]\n"
     ]
    }
   ],
   "source": [
    "# 需要注意的几个问题：\n",
    "# 不能简单的在数据集上分离出一小部分，需要用 shuffle\n",
    "# 而且这个 shuffle 需要同时用到 X 和 y 上\n",
    "shuffle_indexes = np.random.permutation(len(X))\n",
    "print(shuffle_indexes)\n",
    "\n",
    "test_ratio = 0.2\n",
    "test_size = int(len(X) * test_ratio)\n",
    "print(\"test_size > \", test_size)\n",
    "\n",
    "test_indexes = shuffle_indexes[:test_size]\n",
    "train_indexes = shuffle_indexes[test_size:]\n",
    "\n",
    "X_train = X[train_indexes]\n",
    "y_train = y[train_indexes]\n",
    "X_test = X[test_indexes]\n",
    "y_test = y[test_indexes]\n",
    "\n",
    "print(X_train)\n",
    "print(y_train)\n",
    "print(X_test)\n",
    "print(y_test)"
   ]
  },
  {
   "cell_type": "code",
   "execution_count": 19,
   "metadata": {},
   "outputs": [],
   "source": [
    "from playML.model_selection import train_test_split"
   ]
  },
  {
   "cell_type": "code",
   "execution_count": 21,
   "metadata": {},
   "outputs": [],
   "source": [
    "X_train, x_test, y_train, y_test = train_test_split(X, y)"
   ]
  },
  {
   "cell_type": "code",
   "execution_count": 23,
   "metadata": {},
   "outputs": [
    {
     "data": {
      "text/plain": [
       "(120, 4)"
      ]
     },
     "execution_count": 23,
     "metadata": {},
     "output_type": "execute_result"
    }
   ],
   "source": [
    "X_train.shape"
   ]
  },
  {
   "cell_type": "code",
   "execution_count": 24,
   "metadata": {},
   "outputs": [
    {
     "data": {
      "text/plain": [
       "(30, 4)"
      ]
     },
     "execution_count": 24,
     "metadata": {},
     "output_type": "execute_result"
    }
   ],
   "source": [
    "x_test.shape"
   ]
  },
  {
   "cell_type": "code",
   "execution_count": 25,
   "metadata": {},
   "outputs": [
    {
     "data": {
      "text/plain": [
       "(120,)"
      ]
     },
     "execution_count": 25,
     "metadata": {},
     "output_type": "execute_result"
    }
   ],
   "source": [
    "y_train.shape"
   ]
  },
  {
   "cell_type": "code",
   "execution_count": 26,
   "metadata": {},
   "outputs": [
    {
     "data": {
      "text/plain": [
       "(30,)"
      ]
     },
     "execution_count": 26,
     "metadata": {},
     "output_type": "execute_result"
    }
   ],
   "source": [
    "y_test.shape"
   ]
  },
  {
   "cell_type": "code",
   "execution_count": 32,
   "metadata": {},
   "outputs": [],
   "source": [
    "from playML.kNN import KNNClassifier\n",
    "kNNClassifier = KNNClassifier(6)\n",
    "kNNClassifier.fit(X_train, y_train)\n",
    "y_predict = kNNClassifier.predict(x_test)"
   ]
  },
  {
   "cell_type": "code",
   "execution_count": 34,
   "metadata": {},
   "outputs": [
    {
     "data": {
      "text/plain": [
       "1.0"
      ]
     },
     "execution_count": 34,
     "metadata": {},
     "output_type": "execute_result"
    }
   ],
   "source": [
    "predict(\"算法准确率\", sum(y_predict == y_test)/len(y_test))"
   ]
  },
  {
   "cell_type": "markdown",
   "metadata": {},
   "source": [
    "# 使用 sklean 中的 train_test_split"
   ]
  },
  {
   "cell_type": "code",
   "execution_count": null,
   "metadata": {},
   "outputs": [],
   "source": [
    "from sklearn.model_selection import train_test_split"
   ]
  },
  {
   "cell_type": "code",
   "execution_count": 45,
   "metadata": {},
   "outputs": [
    {
     "name": "stdout",
     "output_type": "stream",
     "text": [
      "(120, 4)\n",
      "(30, 4)\n",
      "(120,)\n",
      "(30,)\n"
     ]
    }
   ],
   "source": [
    "X_train, x_test, y_train, y_test = train_test_split(X, y)\n",
    "print(X_train.shape)\n",
    "print(x_test.shape)\n",
    "print(y_train.shape)\n",
    "print(y_test.shape)"
   ]
  },
  {
   "cell_type": "code",
   "execution_count": 43,
   "metadata": {},
   "outputs": [
    {
     "name": "stdout",
     "output_type": "stream",
     "text": [
      "0.19.2\n"
     ]
    }
   ],
   "source": [
    "import sklearn as sklearn\n",
    "print(sklearn.__version__)"
   ]
  },
  {
   "cell_type": "code",
   "execution_count": null,
   "metadata": {},
   "outputs": [],
   "source": []
  }
 ],
 "metadata": {
  "kernelspec": {
   "display_name": "Python 3",
   "language": "python",
   "name": "python3"
  },
  "language_info": {
   "codemirror_mode": {
    "name": "ipython",
    "version": 3
   },
   "file_extension": ".py",
   "mimetype": "text/x-python",
   "name": "python",
   "nbconvert_exporter": "python",
   "pygments_lexer": "ipython3",
   "version": "3.7.0"
  }
 },
 "nbformat": 4,
 "nbformat_minor": 2
}
