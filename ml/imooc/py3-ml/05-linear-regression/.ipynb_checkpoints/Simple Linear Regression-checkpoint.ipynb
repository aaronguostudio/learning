{
 "cells": [
  {
   "cell_type": "markdown",
   "metadata": {},
   "source": [
    "# 5.3 简单线性回归"
   ]
  },
  {
   "cell_type": "code",
   "execution_count": 1,
   "metadata": {},
   "outputs": [],
   "source": [
    "import numpy as np\n",
    "import matplotlib.pyplot as plt"
   ]
  },
  {
   "cell_type": "code",
   "execution_count": 2,
   "metadata": {},
   "outputs": [],
   "source": [
    "x = np.array([1., 2., 3., 4., 5.])\n",
    "y = np.array([1., 2., 3., 4., 5.])"
   ]
  },
  {
   "cell_type": "code",
   "execution_count": 3,
   "metadata": {
    "scrolled": true
   },
   "outputs": [
    {
     "data": {
      "image/png": "[encoded data removed]",
      "text/plain": [
       "<Figure size 432x288 with 1 Axes>"
      ]
     },
     "metadata": {
      "needs_background": "light"
     },
     "output_type": "display_data"
    }
   ],
   "source": [
    "plt.scatter(x, y)\n",
    "plt.axis([0, 6, 0, 6])\n",
    "plt.show()"
   ]
  },
  {
   "cell_type": "code",
   "execution_count": 4,
   "metadata": {},
   "outputs": [],
   "source": [
    "x_mean = np.mean(x)\n",
    "y_mean = np.mean(y)"
   ]
  },
  {
   "cell_type": "code",
   "execution_count": 5,
   "metadata": {},
   "outputs": [],
   "source": [
    "num = 0.0 # 分子\n",
    "d = 0.0   # 分母\n",
    "\n",
    "for x_i, y_i in zip(x, y):\n",
    "    num += (x_i - x_mean) * (y_i - y_mean)\n",
    "    d += (x_i - x_mean) ** 2\n",
    "\n",
    "# 根据求导公式实现\n",
    "a = num / d\n",
    "b = y_mean - a * x_mean"
   ]
  },
  {
   "cell_type": "code",
   "execution_count": 6,
   "metadata": {},
   "outputs": [
    {
     "data": {
      "text/plain": [
       "1.0"
      ]
     },
     "execution_count": 6,
     "metadata": {},
     "output_type": "execute_result"
    }
   ],
   "source": [
    "a"
   ]
  },
  {
   "cell_type": "code",
   "execution_count": 7,
   "metadata": {},
   "outputs": [
    {
     "data": {
      "text/plain": [
       "0.0"
      ]
     },
     "execution_count": 7,
     "metadata": {},
     "output_type": "execute_result"
    }
   ],
   "source": [
    "b"
   ]
  },
  {
   "cell_type": "code",
   "execution_count": 8,
   "metadata": {},
   "outputs": [],
   "source": [
    "y_hat = a * x + b"
   ]
  },
  {
   "cell_type": "code",
   "execution_count": 9,
   "metadata": {},
   "outputs": [
    {
     "data": {
      "image/png": "[encoded data removed]",
      "text/plain": [
       "<Figure size 432x288 with 1 Axes>"
      ]
     },
     "metadata": {
      "needs_background": "light"
     },
     "output_type": "display_data"
    }
   ],
   "source": [
    "plt.scatter(x, y)\n",
    "plt.plot(x, y_hat, color='r')\n",
    "plt.show()"
   ]
  },
  {
   "cell_type": "code",
   "execution_count": 10,
   "metadata": {},
   "outputs": [],
   "source": [
    "x_predict = 6\n",
    "y_predict = a * x_predict + b"
   ]
  },
  {
   "cell_type": "code",
   "execution_count": 11,
   "metadata": {},
   "outputs": [
    {
     "data": {
      "text/plain": [
       "6.0"
      ]
     },
     "execution_count": 11,
     "metadata": {},
     "output_type": "execute_result"
    }
   ],
   "source": [
    "y_predict"
   ]
  },
  {
   "cell_type": "markdown",
   "metadata": {},
   "source": [
    "# 使用自己的 SimpleLinearRegression"
   ]
  },
  {
   "cell_type": "code",
   "execution_count": 12,
   "metadata": {},
   "outputs": [],
   "source": [
    "%run SimpleLinearRegression1.py"
   ]
  },
  {
   "cell_type": "code",
   "execution_count": 13,
   "metadata": {},
   "outputs": [
    {
     "data": {
      "text/plain": [
       "SimpleLinearRegression1()"
      ]
     },
     "execution_count": 13,
     "metadata": {},
     "output_type": "execute_result"
    }
   ],
   "source": [
    "reg1 = SimpleLinearRegression1()\n",
    "reg1.fit(x, y)"
   ]
  },
  {
   "cell_type": "code",
   "execution_count": 14,
   "metadata": {},
   "outputs": [
    {
     "data": {
      "text/plain": [
       "array([6.])"
      ]
     },
     "execution_count": 14,
     "metadata": {},
     "output_type": "execute_result"
    }
   ],
   "source": [
    "reg1.predict(np.array([x_predict]))"
   ]
  },
  {
   "cell_type": "code",
   "execution_count": 15,
   "metadata": {},
   "outputs": [
    {
     "data": {
      "text/plain": [
       "1.0"
      ]
     },
     "execution_count": 15,
     "metadata": {},
     "output_type": "execute_result"
    }
   ],
   "source": [
    "reg1.a_"
   ]
  },
  {
   "cell_type": "code",
   "execution_count": 16,
   "metadata": {},
   "outputs": [
    {
     "data": {
      "text/plain": [
       "0.0"
      ]
     },
     "execution_count": 16,
     "metadata": {},
     "output_type": "execute_result"
    }
   ],
   "source": [
    "reg1.b_"
   ]
  },
  {
   "cell_type": "code",
   "execution_count": 18,
   "metadata": {},
   "outputs": [],
   "source": [
    "y_hat1 = reg1.predict(x)"
   ]
  },
  {
   "cell_type": "code",
   "execution_count": 20,
   "metadata": {},
   "outputs": [
    {
     "data": {
      "text/plain": [
       "[<matplotlib.lines.Line2D at 0x11e993f10>]"
      ]
     },
     "execution_count": 20,
     "metadata": {},
     "output_type": "execute_result"
    },
    {
     "data": {
      "image/png": "[encoded data removed]",
      "text/plain": [
       "<Figure size 432x288 with 1 Axes>"
      ]
     },
     "metadata": {
      "needs_background": "light"
     },
     "output_type": "display_data"
    }
   ],
   "source": [
    "plt.scatter(x, y)\n",
    "plt.plot(x, y_hat1, color='red')"
   ]
  },
  {
   "cell_type": "markdown",
   "metadata": {},
   "source": [
    "# 向量化实现 SimpleLinearRegression"
   ]
  },
  {
   "cell_type": "code",
   "execution_count": 21,
   "metadata": {},
   "outputs": [],
   "source": [
    "%run SimpleLinearRegression1.py"
   ]
  },
  {
   "cell_type": "code",
   "execution_count": 22,
   "metadata": {},
   "outputs": [
    {
     "data": {
      "text/plain": [
       "SimpleLinearRegression2()"
      ]
     },
     "execution_count": 22,
     "metadata": {},
     "output_type": "execute_result"
    }
   ],
   "source": [
    "reg2 = SimpleLinearRegression2()\n",
    "reg2.fit(x, y)"
   ]
  },
  {
   "cell_type": "code",
   "execution_count": 23,
   "metadata": {},
   "outputs": [
    {
     "data": {
      "text/plain": [
       "1.0"
      ]
     },
     "execution_count": 23,
     "metadata": {},
     "output_type": "execute_result"
    }
   ],
   "source": [
    "reg2.a_"
   ]
  },
  {
   "cell_type": "code",
   "execution_count": 24,
   "metadata": {},
   "outputs": [
    {
     "data": {
      "text/plain": [
       "0.0"
      ]
     },
     "execution_count": 24,
     "metadata": {},
     "output_type": "execute_result"
    }
   ],
   "source": [
    "reg2.b_"
   ]
  },
  {
   "cell_type": "code",
   "execution_count": 25,
   "metadata": {},
   "outputs": [],
   "source": [
    "y_hat2 = reg2.predict(x)"
   ]
  },
  {
   "cell_type": "code",
   "execution_count": 26,
   "metadata": {},
   "outputs": [
    {
     "data": {
      "text/plain": [
       "[<matplotlib.lines.Line2D at 0x11ea90fd0>]"
      ]
     },
     "execution_count": 26,
     "metadata": {},
     "output_type": "execute_result"
    },
    {
     "data": {
      "image/png": "[encoded data removed]",
      "text/plain": [
       "<Figure size 432x288 with 1 Axes>"
      ]
     },
     "metadata": {
      "needs_background": "light"
     },
     "output_type": "display_data"
    }
   ],
   "source": [
    "plt.scatter(x, y)\n",
    "plt.plot(x, y_hat2, color='red')"
   ]
  },
  {
   "cell_type": "markdown",
   "metadata": {},
   "source": [
    "# 向量化实现的性能测试"
   ]
  },
  {
   "cell_type": "code",
   "execution_count": 35,
   "metadata": {},
   "outputs": [],
   "source": [
    "m = 1000\n",
    "big_x = np.random.random(size=m)"
   ]
  },
  {
   "cell_type": "code",
   "execution_count": 36,
   "metadata": {},
   "outputs": [
    {
     "data": {
      "text/plain": [
       "array([0.27388521, 0.12092506, 0.64584176, 0.72601322, 0.83430333,\n",
       "       0.89438108, 0.97847705, 0.2637445 , 0.87388446, 0.10390098,\n",
       "       0.58585807, 0.79736857, 0.77889067, 0.88410161, 0.39377152,\n",
       "       0.43335662, 0.17302178, 0.65005835, 0.91748847, 0.02629943,\n",
       "       0.00167332, 0.53565991, 0.96201244, 0.17264269, 0.00731339,\n",
       "       0.40784079, 0.95048722, 0.44651641, 0.7272342 , 0.76367835,\n",
       "       0.41947686, 0.04405791, 0.91211   , 0.62422864, 0.74286528,\n",
       "       0.77686731, 0.41630815, 0.07715109, 0.74866449, 0.32849271,\n",
       "       0.0269273 , 0.92193403, 0.26735553, 0.86127124, 0.06721319,\n",
       "       0.57965113, 0.5375433 , 0.85374988, 0.80688216, 0.16365143,\n",
       "       0.76346146, 0.4082023 , 0.07529182, 0.84299346, 0.29856072,\n",
       "       0.73211766, 0.9425336 , 0.69900672, 0.48646954, 0.64512967,\n",
       "       0.35170929, 0.49560226, 0.88821502, 0.11851592, 0.13389416,\n",
       "       0.68239684, 0.29171954, 0.98014716, 0.71959756, 0.95133623,\n",
       "       0.13417535, 0.10464081, 0.40165709, 0.74525449, 0.53860752,\n",
       "       0.51335743, 0.95499631, 0.01017447, 0.00203062, 0.95272218,\n",
       "       0.66320821, 0.09789614, 0.89517907, 0.78421894, 0.21778617,\n",
       "       0.98189994, 0.09665767, 0.61610474, 0.01620048, 0.07415142,\n",
       "       0.9660062 , 0.36535574, 0.86265258, 0.56917556, 0.12861668,\n",
       "       0.70946516, 0.03941048, 0.27808863, 0.46816364, 0.37713749,\n",
       "       0.35446273, 0.56306188, 0.90195253, 0.93531656, 0.00327021,\n",
       "       0.97039168, 0.6550067 , 0.0737688 , 0.83715214, 0.71190593,\n",
       "       0.07721271, 0.76554062, 0.61300906, 0.16598585, 0.73784043,\n",
       "       0.67005745, 0.79440896, 0.9388968 , 0.13261209, 0.12686972,\n",
       "       0.5528261 , 0.81639224, 0.88843695, 0.45600726, 0.34753234,\n",
       "       0.77161372, 0.60312443, 0.16147626, 0.27975202, 0.14983659,\n",
       "       0.83144765, 0.80899077, 0.50266451, 0.36890247, 0.0376343 ,\n",
       "       0.37100402, 0.79855291, 0.73517068, 0.31615791, 0.7598651 ,\n",
       "       0.20150872, 0.67376882, 0.23847943, 0.64946494, 0.24444858,\n",
       "       0.61656913, 0.63980563, 0.72204241, 0.70812456, 0.93421064,\n",
       "       0.03098183, 0.31731435, 0.24256772, 0.17155877, 0.0335363 ,\n",
       "       0.34871198, 0.63190936, 0.15677632, 0.68867568, 0.04036356,\n",
       "       0.22880219, 0.19955146, 0.88114908, 0.26255278, 0.50954805,\n",
       "       0.86051357, 0.39458271, 0.04489591, 0.42363833, 0.38725624,\n",
       "       0.8325753 , 0.7209851 , 0.00576009, 0.43841631, 0.59495366,\n",
       "       0.38747333, 0.58137735, 0.89277923, 0.93488195, 0.93892226,\n",
       "       0.97826314, 0.47408724, 0.65311559, 0.9828771 , 0.63571849,\n",
       "       0.37975567, 0.385299  , 0.26274018, 0.96981067, 0.02203242,\n",
       "       0.25767722, 0.077857  , 0.4801746 , 0.22548511, 0.89706359,\n",
       "       0.48573952, 0.31899893, 0.66813496, 0.07952476, 0.09234799,\n",
       "       0.93899561, 0.30158098, 0.08888584, 0.1300132 , 0.29882798,\n",
       "       0.71803077, 0.52931687, 0.09693809, 0.0349271 , 0.64738547,\n",
       "       0.39857745, 0.20046276, 0.22563251, 0.7008197 , 0.94766267,\n",
       "       0.24683568, 0.87790378, 0.44838553, 0.2347398 , 0.40723905,\n",
       "       0.54484145, 0.95425794, 0.58737501, 0.46402137, 0.85791586,\n",
       "       0.95356739, 0.67796828, 0.03440563, 0.71998147, 0.799157  ,\n",
       "       0.24060852, 0.23904417, 0.51658869, 0.68139128, 0.61491037,\n",
       "       0.75123674, 0.84773876, 0.68502153, 0.50018298, 0.18258733,\n",
       "       0.4202831 , 0.68708402, 0.60540239, 0.38073374, 0.29346902,\n",
       "       0.36570946, 0.57887083, 0.70809174, 0.30355508, 0.38845234,\n",
       "       0.52174536, 0.23583018, 0.44545024, 0.15060828, 0.04350359,\n",
       "       0.36994546, 0.23320658, 0.66824949, 0.30291153, 0.09216916,\n",
       "       0.10337476, 0.81199957, 0.03424018, 0.61400997, 0.65601501,\n",
       "       0.51327995, 0.07871613, 0.46148541, 0.13140664, 0.16102659,\n",
       "       0.32292737, 0.12064188, 0.43262059, 0.85656611, 0.4118908 ,\n",
       "       0.06838849, 0.47354487, 0.70957827, 0.69863015, 0.19273495,\n",
       "       0.01377693, 0.12545142, 0.99108486, 0.63986223, 0.38806103,\n",
       "       0.82738142, 0.45674039, 0.09927324, 0.45574617, 0.18614763,\n",
       "       0.71445816, 0.4792274 , 0.99485721, 0.9630005 , 0.49471542,\n",
       "       0.42261073, 0.22214806, 0.4536517 , 0.88346389, 0.60647792,\n",
       "       0.8236228 , 0.92313478, 0.7538248 , 0.70882857, 0.0187902 ,\n",
       "       0.43627871, 0.93259589, 0.58196097, 0.84497524, 0.34640627,\n",
       "       0.62752461, 0.29477005, 0.03282959, 0.28872586, 0.35101417,\n",
       "       0.61684653, 0.84860488, 0.02813148, 0.10514686, 0.26935761,\n",
       "       0.70388693, 0.90876162, 0.46044348, 0.98729035, 0.34674476,\n",
       "       0.77378853, 0.51367939, 0.22574722, 0.25188105, 0.36390149,\n",
       "       0.14389102, 0.97052371, 0.74586206, 0.71372417, 0.97404636,\n",
       "       0.49951605, 0.90142848, 0.61806757, 0.51838005, 0.39118972,\n",
       "       0.29236104, 0.76230185, 0.59069696, 0.10509359, 0.32244197,\n",
       "       0.57628639, 0.80707375, 0.64199489, 0.42899934, 0.96927796,\n",
       "       0.90241375, 0.3597005 , 0.12168072, 0.31446882, 0.58461428,\n",
       "       0.44491526, 0.92681748, 0.83024838, 0.86260248, 0.74551101,\n",
       "       0.0147957 , 0.11781329, 0.50156027, 0.99247199, 0.12556392,\n",
       "       0.14201642, 0.72618551, 0.07694201, 0.3833661 , 0.65135517,\n",
       "       0.5356912 , 0.77182329, 0.55661072, 0.14682587, 0.39822369,\n",
       "       0.43508027, 0.41224904, 0.55806284, 0.18728875, 0.90418813,\n",
       "       0.0811939 , 0.2012191 , 0.07353723, 0.11620048, 0.39536612,\n",
       "       0.98558752, 0.01760404, 0.16273783, 0.40866282, 0.90281851,\n",
       "       0.85080028, 0.27477326, 0.77384304, 0.63099133, 0.70328486,\n",
       "       0.60011139, 0.65320596, 0.37466819, 0.23623469, 0.16990197,\n",
       "       0.45469086, 0.16449613, 0.55871126, 0.14688325, 0.57372623,\n",
       "       0.63771776, 0.47104233, 0.99043356, 0.44969901, 0.30731348,\n",
       "       0.75593223, 0.99407291, 0.4660218 , 0.69725622, 0.56867151,\n",
       "       0.10097388, 0.73967188, 0.06268198, 0.86046256, 0.03692477,\n",
       "       0.00859273, 0.34059282, 0.12367384, 0.7487184 , 0.33110782,\n",
       "       0.78864449, 0.2990257 , 0.84602499, 0.43959308, 0.3121246 ,\n",
       "       0.13222866, 0.35724691, 0.19836005, 0.12210301, 0.99302555,\n",
       "       0.68669323, 0.47636551, 0.83079187, 0.29256471, 0.57598406,\n",
       "       0.29857556, 0.59426789, 0.73343075, 0.0860762 , 0.81060441,\n",
       "       0.15231619, 0.39550223, 0.60975844, 0.43188784, 0.82082072,\n",
       "       0.18604121, 0.81211276, 0.1670129 , 0.03511496, 0.22609189,\n",
       "       0.04471532, 0.7228329 , 0.57870922, 0.28551005, 0.66579412,\n",
       "       0.92862771, 0.06434944, 0.364571  , 0.01293698, 0.72761466,\n",
       "       0.28442811, 0.65291439, 0.02383212, 0.45569922, 0.85854689,\n",
       "       0.06200682, 0.45846086, 0.17565213, 0.31319177, 0.69495109,\n",
       "       0.60980754, 0.2254328 , 0.61896913, 0.46605211, 0.57944755,\n",
       "       0.05303633, 0.25736272, 0.08954043, 0.10339269, 0.03925764,\n",
       "       0.16793765, 0.75212221, 0.5968057 , 0.72737382, 0.69990743,\n",
       "       0.89413463, 0.5414429 , 0.53209945, 0.32415836, 0.17272538,\n",
       "       0.60422749, 0.92903029, 0.14029977, 0.60792244, 0.5060278 ,\n",
       "       0.13344438, 0.1335036 , 0.37136926, 0.23346725, 0.4810034 ,\n",
       "       0.79615569, 0.28617664, 0.01684157, 0.37771679, 0.2045872 ,\n",
       "       0.90376977, 0.37581493, 0.72981864, 0.22813804, 0.27643043,\n",
       "       0.76555352, 0.72180685, 0.59636651, 0.66846157, 0.15208256,\n",
       "       0.2499979 , 0.51726188, 0.39926193, 0.93799655, 0.73275687,\n",
       "       0.11152532, 0.70589005, 0.85338168, 0.67148591, 0.82870046,\n",
       "       0.4422493 , 0.36699496, 0.73632253, 0.38344713, 0.10935554,\n",
       "       0.00713624, 0.19979653, 0.18356922, 0.64075359, 0.80782805,\n",
       "       0.63226956, 0.25063635, 0.7533432 , 0.95984077, 0.17647899,\n",
       "       0.46525306, 0.23738379, 0.05071077, 0.41988515, 0.44741074,\n",
       "       0.91004572, 0.82381748, 0.63256929, 0.81497011, 0.07099632,\n",
       "       0.4787645 , 0.02620909, 0.09100105, 0.25901005, 0.09633099,\n",
       "       0.60916961, 0.44050872, 0.71824862, 0.12253551, 0.2955084 ,\n",
       "       0.96574413, 0.17591757, 0.06466764, 0.35526753, 0.626247  ,\n",
       "       0.30012007, 0.3251834 , 0.94942831, 0.09057186, 0.99892183,\n",
       "       0.10999801, 0.92907633, 0.40310169, 0.74170226, 0.34994874,\n",
       "       0.17524501, 0.46770867, 0.30811033, 0.948077  , 0.52148675,\n",
       "       0.24379431, 0.17548328, 0.1790587 , 0.58734563, 0.47944791,\n",
       "       0.66074712, 0.23945269, 0.25863243, 0.62246931, 0.44981543,\n",
       "       0.52747823, 0.50589867, 0.76911847, 0.04701577, 0.03006276,\n",
       "       0.89903385, 0.36063216, 0.70647827, 0.30632767, 0.78767008,\n",
       "       0.71179081, 0.69863098, 0.47832298, 0.12076776, 0.84762874,\n",
       "       0.73496464, 0.2213705 , 0.68503304, 0.57479656, 0.38850524,\n",
       "       0.18301428, 0.35535316, 0.53694836, 0.19612663, 0.51435156,\n",
       "       0.74614325, 0.8455245 , 0.8060004 , 0.36683974, 0.53425385,\n",
       "       0.04940855, 0.57705   , 0.4692268 , 0.0431511 , 0.50441671,\n",
       "       0.38472886, 0.85218464, 0.68759364, 0.9266692 , 0.15939617,\n",
       "       0.12033406, 0.28640053, 0.04989862, 0.85704839, 0.97627449,\n",
       "       0.49356555, 0.57001203, 0.29859303, 0.99209596, 0.33460582,\n",
       "       0.25901776, 0.44610198, 0.49139725, 0.96485736, 0.33107531,\n",
       "       0.53269188, 0.2349739 , 0.67395923, 0.39177363, 0.70767332,\n",
       "       0.74825335, 0.74810576, 0.89901769, 0.44730227, 0.55765933,\n",
       "       0.55517637, 0.4800734 , 0.60949602, 0.65483493, 0.16718076,\n",
       "       0.56620348, 0.09724593, 0.98406827, 0.85649087, 0.66655426,\n",
       "       0.38691367, 0.49962662, 0.36908164, 0.91867591, 0.27373695,\n",
       "       0.01908741, 0.28737519, 0.51247426, 0.23332554, 0.55172034,\n",
       "       0.47855541, 0.57973632, 0.54367511, 0.24479403, 0.11635772,\n",
       "       0.23360748, 0.32879691, 0.14137035, 0.43863102, 0.05788591,\n",
       "       0.41510714, 0.9954346 , 0.32664347, 0.73392447, 0.5552829 ,\n",
       "       0.9918501 , 0.90342797, 0.02554912, 0.85081596, 0.94176994,\n",
       "       0.78993627, 0.87059796, 0.25959512, 0.10755049, 0.37450471,\n",
       "       0.3261514 , 0.02780888, 0.71368054, 0.1487035 , 0.64113028,\n",
       "       0.38192283, 0.6511625 , 0.05015204, 0.37453668, 0.24913853,\n",
       "       0.97980687, 0.30949442, 0.84351741, 0.94034905, 0.33419352,\n",
       "       0.28111523, 0.56976914, 0.00802389, 0.27603963, 0.75213083,\n",
       "       0.90398087, 0.48791903, 0.03986708, 0.21274044, 0.34527446,\n",
       "       0.44139479, 0.3337478 , 0.47869763, 0.13668247, 0.64855343,\n",
       "       0.72904032, 0.97645156, 0.10671287, 0.08503064, 0.75889487,\n",
       "       0.11225497, 0.35954798, 0.72146489, 0.57596678, 0.51932351,\n",
       "       0.9075536 , 0.28431129, 0.65651821, 0.80797246, 0.69770251,\n",
       "       0.25123009, 0.93293934, 0.22947033, 0.42694733, 0.85933952,\n",
       "       0.87317152, 0.08559059, 0.9185463 , 0.37616666, 0.58567884,\n",
       "       0.56525028, 0.05357139, 0.54553157, 0.68724305, 0.03236337,\n",
       "       0.59586049, 0.5623455 , 0.92711559, 0.22199484, 0.29774821,\n",
       "       0.55018195, 0.39753056, 0.79812106, 0.82844999, 0.50649939,\n",
       "       0.38416564, 0.1292462 , 0.54522675, 0.29875213, 0.88337241,\n",
       "       0.12976597, 0.35461876, 0.24260081, 0.87196192, 0.77782113,\n",
       "       0.36045198, 0.10764801, 0.70363072, 0.93402055, 0.33106998,\n",
       "       0.02164828, 0.38353012, 0.36756474, 0.74610714, 0.27338489,\n",
       "       0.57980948, 0.44305989, 0.45266047, 0.89965064, 0.96733787,\n",
       "       0.46625431, 0.69653426, 0.21249942, 0.20451363, 0.09615428,\n",
       "       0.18952859, 0.48453651, 0.50083844, 0.20824792, 0.17518469,\n",
       "       0.14734591, 0.83912077, 0.88462234, 0.71894251, 0.49784145,\n",
       "       0.60426655, 0.2228297 , 0.73659275, 0.93391392, 0.70696177,\n",
       "       0.7466212 , 0.36666332, 0.68861856, 0.07983988, 0.81313575,\n",
       "       0.90216086, 0.4338614 , 0.47295553, 0.42205603, 0.19614362,\n",
       "       0.70047208, 0.23606105, 0.75459629, 0.67954617, 0.06928097,\n",
       "       0.48513236, 0.36337858, 0.41689869, 0.11860841, 0.45645499,\n",
       "       0.09372537, 0.81151614, 0.3111493 , 0.60970634, 0.06223326,\n",
       "       0.81876372, 0.08831735, 0.91367199, 0.84967321, 0.97921081,\n",
       "       0.4785393 , 0.80755465, 0.30674323, 0.73322296, 0.21218678,\n",
       "       0.86400791, 0.73746241, 0.83915077, 0.16270333, 0.71909304,\n",
       "       0.74967372, 0.39233895, 0.18098649, 0.27628198, 0.36451886,\n",
       "       0.82446665, 0.85233276, 0.48417938, 0.03562013, 0.48527366,\n",
       "       0.09379641, 0.49988272, 0.25027118, 0.97335867, 0.68743157,\n",
       "       0.30824367, 0.05283772, 0.29913093, 0.13416079, 0.1973212 ,\n",
       "       0.76163345, 0.28261738, 0.21663502, 0.7355498 , 0.58646791,\n",
       "       0.18108139, 0.45889691, 0.27055491, 0.96184397, 0.92747532,\n",
       "       0.53873268, 0.85865459, 0.73079221, 0.8285353 , 0.56915885,\n",
       "       0.58450921, 0.14189675, 0.19508615, 0.37308773, 0.94127013,\n",
       "       0.43761225, 0.45477893, 0.4967911 , 0.12401318, 0.8823279 ,\n",
       "       0.87358063, 0.72431684, 0.17661181, 0.59547849, 0.42117044,\n",
       "       0.91126794, 0.57733332, 0.07440915, 0.75076362, 0.93501843,\n",
       "       0.2026137 , 0.43139052, 0.31559894, 0.27817444, 0.55738326,\n",
       "       0.68493802, 0.19310567, 0.42011301, 0.70131291, 0.20839069,\n",
       "       0.80274035, 0.03789693, 0.45265148, 0.88759432, 0.44154331,\n",
       "       0.88559864, 0.46920457, 0.47131683, 0.98774892, 0.33085526,\n",
       "       0.16114515, 0.12802936, 0.52301079, 0.50136796, 0.46550449,\n",
       "       0.2846885 , 0.61867269, 0.27604084, 0.20990671, 0.83813475,\n",
       "       0.33156067, 0.97428949, 0.41964542, 0.55783373, 0.37479546,\n",
       "       0.96995311, 0.57529443, 0.28898325, 0.30013659, 0.99179894,\n",
       "       0.15153553, 0.33503756, 0.25067724, 0.34454329, 0.61646737,\n",
       "       0.7575842 , 0.04375206, 0.4615071 , 0.97101155, 0.0797999 ,\n",
       "       0.73139303, 0.5375098 , 0.92808138, 0.39441593, 0.95085136,\n",
       "       0.65204507, 0.03589246, 0.12067388, 0.11663018, 0.51766271,\n",
       "       0.07638493, 0.61191527, 0.98106745, 0.9447545 , 0.98976974,\n",
       "       0.4758026 , 0.69743503, 0.55258227, 0.15398327, 0.73547494,\n",
       "       0.85376111, 0.78780599, 0.52024885, 0.12031993, 0.94924778,\n",
       "       0.4898202 , 0.14667034, 0.2570408 , 0.85101848, 0.12290698,\n",
       "       0.69790416, 0.95306534, 0.15034733, 0.32271726, 0.07162907])"
      ]
     },
     "execution_count": 36,
     "metadata": {},
     "output_type": "execute_result"
    }
   ],
   "source": [
    "big_x"
   ]
  },
  {
   "cell_type": "code",
   "execution_count": 37,
   "metadata": {},
   "outputs": [],
   "source": [
    "big_y = big_x * 2.0 + 3.0 + np.random.normal(size=m)"
   ]
  },
  {
   "cell_type": "code",
   "execution_count": 38,
   "metadata": {},
   "outputs": [
    {
     "data": {
      "text/plain": [
       "array([2.35186167, 2.67525039, 5.3349344 , 6.49821339, 4.62670178,\n",
       "       4.98504687, 2.50701606, 2.77429028, 4.20789209, 2.11366188,\n",
       "       4.49219629, 3.1118353 , 2.72039347, 4.07983057, 4.1279584 ,\n",
       "       3.11736548, 4.11267036, 3.35729977, 4.42911227, 1.70347354,\n",
       "       4.78603649, 3.85131902, 3.55488281, 2.88312278, 3.13408407,\n",
       "       4.08308313, 4.70289233, 1.87004672, 4.03193002, 5.25201316,\n",
       "       3.55591749, 3.4806924 , 4.74800192, 4.59047436, 4.79562642,\n",
       "       6.04346427, 3.20172426, 3.80838954, 5.34688704, 4.29453738,\n",
       "       3.86384981, 6.642801  , 2.54224431, 5.48213754, 2.76684109,\n",
       "       4.09718682, 3.07213154, 4.1126187 , 5.79020686, 3.8275648 ,\n",
       "       2.01816417, 4.45736479, 2.25367614, 6.31143291, 3.86266872,\n",
       "       6.01912068, 4.82041055, 2.77530893, 4.19550595, 4.41971946,\n",
       "       4.2940072 , 2.30380365, 6.3526997 , 2.50511729, 2.43751251,\n",
       "       5.81479672, 5.3946584 , 5.3257315 , 4.46885695, 5.56554264,\n",
       "       4.3532474 , 4.78326629, 4.5321414 , 4.52859225, 5.11055935,\n",
       "       3.41608565, 5.39622783, 3.37908596, 4.76369465, 3.58797603,\n",
       "       3.91157218, 2.59894167, 3.99164802, 4.41113305, 2.53744269,\n",
       "       3.63377772, 2.03059089, 4.3357884 , 0.8228468 , 3.46358046,\n",
       "       5.0586944 , 2.8475836 , 5.427229  , 3.81024901, 4.17610538,\n",
       "       6.30210677, 3.35930473, 1.24190957, 3.95855988, 5.33465555,\n",
       "       2.87635404, 5.37805717, 5.59571445, 6.33351126, 3.45053365,\n",
       "       3.29907428, 3.76090088, 2.68435663, 4.1095763 , 3.90478509,\n",
       "       5.2473545 , 4.67328699, 3.98225418, 2.81786065, 6.62245735,\n",
       "       3.77705721, 2.25679101, 5.72195635, 3.86752638, 3.19389988,\n",
       "       4.89155918, 4.98895197, 5.89415543, 2.88986643, 2.85216857,\n",
       "       3.63394449, 4.76714901, 3.80273131, 1.57197362, 4.50977755,\n",
       "       3.88501555, 5.16879837, 2.39595379, 3.15818563, 4.46970189,\n",
       "       2.73634528, 4.40559709, 6.61480844, 3.06434958, 4.28164233,\n",
       "       2.99004834, 5.35632208, 3.06357007, 3.82447435, 3.77802344,\n",
       "       4.83746079, 4.83244142, 4.92854285, 5.01576706, 4.82038213,\n",
       "       3.66241949, 3.16798402, 3.12750342, 4.13031994, 1.06860085,\n",
       "       3.8291228 , 2.73175685, 2.74290216, 4.66341593, 2.56333093,\n",
       "       3.38093991, 4.13116516, 4.00967951, 3.94817138, 4.74654854,\n",
       "       4.32968592, 3.34822162, 4.36485513, 3.79923483, 4.46643378,\n",
       "       6.18752976, 4.65429967, 2.69775114, 4.55961913, 4.33633373,\n",
       "       5.56771548, 4.72782585, 6.56825575, 3.68523554, 4.75936712,\n",
       "       3.90361809, 5.48291823, 4.46535156, 5.22744349, 4.95000752,\n",
       "       4.48609676, 3.37151576, 3.20547857, 4.96536092, 3.99013518,\n",
       "       4.29938193, 4.07818678, 2.06198994, 5.41742034, 4.24666481,\n",
       "       3.70316762, 2.52483171, 3.15757203, 1.84216457, 1.41007855,\n",
       "       4.68259643, 5.15513907, 2.40243397, 3.98689914, 3.66851125,\n",
       "       5.11032434, 5.6451702 , 3.44410591, 3.45434041, 3.71549076,\n",
       "       4.16176826, 4.83745222, 4.74686518, 5.99095055, 4.61474962,\n",
       "       3.58511964, 4.41464995, 5.77188293, 2.97744095, 3.86365502,\n",
       "       4.15942069, 4.25078323, 4.3850108 , 3.95219329, 5.44810317,\n",
       "       5.8214471 , 2.07662792, 4.25832331, 5.51755173, 1.43019689,\n",
       "       3.85413586, 2.4979145 , 3.94931722, 5.39781707, 4.41203452,\n",
       "       6.25235847, 6.29051119, 3.08521771, 1.73358641, 3.61934314,\n",
       "       3.23576469, 4.36352226, 3.14658511, 2.95902671, 2.93376345,\n",
       "       2.5129893 , 4.79855845, 2.27626274, 2.87588453, 2.97106721,\n",
       "       2.41042619, 2.96857737, 3.65573666, 4.35236865, 2.97121417,\n",
       "       4.81146775, 2.47795047, 3.32453072, 4.26677986, 4.02772401,\n",
       "       3.71984822, 2.63830263, 3.27437866, 2.79617747, 5.39219329,\n",
       "       3.6583375 , 3.32181514, 5.46312153, 3.9711003 , 3.19873376,\n",
       "       3.55639849, 0.96293334, 3.96389102, 3.60002238, 3.611221  ,\n",
       "       4.1807157 , 3.42046688, 3.69871019, 4.44659069, 5.11630055,\n",
       "       3.34551939, 3.32185342, 5.95115058, 5.45882073, 3.02540099,\n",
       "       6.38094843, 3.5410202 , 4.02494046, 4.11332678, 4.42395915,\n",
       "       4.90961916, 5.1624362 , 4.48306683, 3.05992142, 4.69398147,\n",
       "       5.49552027, 2.71678992, 3.70828755, 4.22497679, 6.81450388,\n",
       "       5.12661458, 6.14228101, 5.19830948, 4.97752163, 4.09299509,\n",
       "       3.60567958, 3.41085626, 4.30504896, 5.53288922, 3.54903227,\n",
       "       2.34812828, 2.12401158, 2.19356636, 3.33051419, 3.32663807,\n",
       "       1.90130168, 2.61236919, 3.45821292, 2.73731238, 3.8992414 ,\n",
       "       3.49045482, 4.5778297 , 4.08142066, 5.44448134, 3.67134644,\n",
       "       3.91805226, 3.25504011, 3.87042213, 2.84027872, 2.95152737,\n",
       "       4.92302299, 5.13000271, 3.78293866, 4.24185601, 3.6008476 ,\n",
       "       2.73013803, 4.3220157 , 4.26236786, 2.44577263, 4.60336555,\n",
       "       3.79441285, 2.30975508, 3.680352  , 2.35929972, 4.75016979,\n",
       "       4.75189562, 4.45274328, 5.59104114, 3.61028459, 3.99176548,\n",
       "       6.287503  , 4.53631019, 3.37889288, 3.55330783, 3.56928157,\n",
       "       4.5671481 , 4.67475216, 4.62480574, 4.11106052, 4.39112264,\n",
       "       3.23942447, 2.74686126, 2.84574943, 4.29097175, 3.78465281,\n",
       "       6.31000817, 3.9282228 , 3.20317713, 4.15872238, 3.6810823 ,\n",
       "       4.39675159, 4.2922013 , 5.25744639, 2.89629001, 2.87151198,\n",
       "       3.38774234, 4.91312795, 3.94003166, 3.99481443, 3.69427026,\n",
       "       2.39751846, 4.32116134, 3.10629298, 2.38309607, 5.13861566,\n",
       "       4.3310894 , 2.8795866 , 2.71322701, 4.33504216, 5.07746946,\n",
       "       4.17364138, 3.82925585, 5.45346115, 4.83649768, 4.38440655,\n",
       "       2.41350385, 3.26168466, 3.41448648, 3.20079086, 2.21215611,\n",
       "       3.18651424, 3.08172057, 3.3580719 , 3.32560242, 4.53304331,\n",
       "       4.07579312, 2.82360283, 6.33467622, 4.23929967, 2.83239873,\n",
       "       6.55271436, 5.21694371, 1.91381548, 4.99496988, 4.64604534,\n",
       "       4.00348761, 3.59264121, 1.79182795, 5.56752428, 4.47498855,\n",
       "       2.50709076, 2.95762403, 1.73171156, 4.15883884, 2.66413175,\n",
       "       4.34442446, 3.42673181, 4.51421663, 4.90339447, 3.12117837,\n",
       "       3.85101485, 4.60861607, 2.25385701, 4.73859584, 4.78947678,\n",
       "       3.53270208, 4.4720947 , 5.34432025, 1.84968078, 3.21119122,\n",
       "       3.37181228, 3.07164043, 3.24544528, 3.20481037, 3.58861341,\n",
       "       4.72621913, 2.08964246, 3.41010675, 4.14372741, 3.40670327,\n",
       "       1.80934111, 5.14850718, 2.84768657, 2.49844524, 4.01512408,\n",
       "       4.08017584, 4.92816786, 3.36902734, 3.86058531, 5.5097603 ,\n",
       "       5.21509046, 5.02593283, 3.83849683, 2.47404194, 3.19196115,\n",
       "       4.53789753, 4.1389918 , 3.18391663, 2.81926651, 6.30487393,\n",
       "       2.88859716, 2.21315771, 2.69474796, 4.69480047, 3.51675069,\n",
       "       5.22644369, 5.36507408, 4.13827719, 4.63218937, 1.91217257,\n",
       "       5.31715461, 2.44834869, 4.45192759, 1.76452092, 1.39924717,\n",
       "       4.82341794, 4.32778059, 4.09306553, 3.78480089, 2.34254658,\n",
       "       3.17750702, 4.77874141, 3.42211119, 3.71542433, 3.44216403,\n",
       "       2.89186128, 7.22070224, 3.11764041, 5.99178645, 3.76919576,\n",
       "       5.8291135 , 2.63260196, 4.97206782, 3.70213586, 3.9145837 ,\n",
       "       5.75904447, 3.9863276 , 3.56443968, 3.80794144, 2.92561454,\n",
       "       6.76719252, 3.33568408, 4.00253409, 2.75712007, 3.52701685,\n",
       "       4.90206724, 3.26828435, 4.70537303, 4.87028396, 2.14058883,\n",
       "       5.22207118, 5.61854386, 4.87564201, 5.80130621, 4.17249307,\n",
       "       2.79165401, 7.09831212, 4.81758535, 3.71068936, 5.85146646,\n",
       "       4.1479927 , 5.53593277, 4.40528618, 4.23331184, 4.37949935,\n",
       "       2.63663103, 3.87098423, 0.78149547, 3.14912141, 4.27167219,\n",
       "       3.38221088, 3.44110076, 4.40754648, 5.15028326, 3.22670353,\n",
       "       5.38812144, 3.18921147, 3.03037019, 3.23979106, 3.16328332,\n",
       "       4.76666653, 5.02200149, 3.33783041, 5.64683079, 3.30210759,\n",
       "       4.57106638, 3.22857142, 5.05172056, 3.75362797, 2.88986872,\n",
       "       4.16585139, 3.59604543, 4.62695661, 2.28513904, 4.03061036,\n",
       "       6.75860337, 2.37803365, 1.46068811, 2.08914122, 4.17380536,\n",
       "       2.10961466, 3.10221592, 4.09655495, 2.54828785, 3.82117295,\n",
       "       1.51551949, 5.14899754, 3.81021491, 5.88572899, 3.18583138,\n",
       "       2.35230891, 3.45303382, 4.93355262, 3.41518432, 3.90617714,\n",
       "       4.41802827, 1.84407015, 1.11274932, 5.24223897, 3.27975734,\n",
       "       2.99733153, 3.42875764, 3.90803452, 4.55312581, 3.02667256,\n",
       "       4.09783308, 2.87692467, 4.65249036, 2.36567561, 2.55476101,\n",
       "       3.85510519, 3.83163148, 4.38069277, 1.60552078, 4.09487494,\n",
       "       2.75743982, 4.31112836, 3.24815364, 2.52203792, 6.10001168,\n",
       "       3.34794815, 3.2348358 , 4.49803977, 4.00326061, 0.68110582,\n",
       "       5.07503235, 3.51951293, 4.8844396 , 4.78891787, 3.07148349,\n",
       "       5.55919216, 5.28556403, 4.52101809, 4.91882537, 5.14178584,\n",
       "       2.96252306, 3.17758883, 5.68136664, 4.02428656, 3.33835095,\n",
       "       4.23762901, 4.57160839, 4.21976983, 5.64743308, 3.29362   ,\n",
       "       3.09110083, 3.502727  , 3.29963053, 4.01355464, 6.28775574,\n",
       "       4.07307332, 5.19978799, 3.79974043, 5.69363681, 4.74031507,\n",
       "       4.76455584, 4.36237495, 6.10272362, 4.24294401, 5.13900874,\n",
       "       4.72783801, 4.51665994, 4.32980638, 3.16397338, 5.27892387,\n",
       "       4.35619574, 3.59641505, 5.39700336, 2.95598221, 2.56356234,\n",
       "       4.60200012, 3.88022611, 4.3775389 , 4.10936438, 3.02910656,\n",
       "       3.27203462, 2.79378382, 6.84063563, 4.3710858 , 4.28492645,\n",
       "       2.9703049 , 3.71365948, 3.80682575, 5.63255249, 4.74333746,\n",
       "       2.5429053 , 2.31664351, 5.34866206, 2.9514272 , 3.98296355,\n",
       "       3.41712034, 4.12349015, 4.75154831, 4.09754376, 3.35681891,\n",
       "       2.86737688, 4.27678839, 2.69950783, 5.64070346, 0.73255822,\n",
       "       3.80984444, 4.98366508, 2.70966352, 3.916876  , 5.17813532,\n",
       "       5.39221247, 5.37044102, 3.61053106, 4.15056136, 5.22187193,\n",
       "       3.65950551, 4.57131532, 3.8352861 , 2.94702637, 2.14408853,\n",
       "       4.55705218, 2.22714523, 3.82223403, 1.43258353, 5.2305564 ,\n",
       "       3.58825346, 4.23091859, 4.23288664, 3.35649085, 3.18461312,\n",
       "       5.79592544, 3.97941758, 5.14645364, 6.06494412, 4.23386736,\n",
       "       1.98548738, 6.02322517, 4.05194627, 3.14722057, 4.9110655 ,\n",
       "       6.0153238 , 4.07780982, 4.04090966, 3.04532067, 3.72455583,\n",
       "       3.64236251, 0.3378576 , 3.16201719, 3.27057419, 5.14088629,\n",
       "       5.89375011, 6.26163899, 2.80980984, 4.04227239, 4.22545349,\n",
       "       3.36735572, 3.9398667 , 4.6490973 , 2.55542565, 2.6777187 ,\n",
       "       4.12667714, 3.59496177, 4.43949959, 5.5871207 , 5.1627558 ,\n",
       "       1.85717754, 4.1083398 , 2.48789439, 3.98098383, 6.54570132,\n",
       "       4.90534707, 3.81937563, 5.34842286, 5.40298986, 4.01312928,\n",
       "       3.40875705, 2.28509737, 2.58279885, 2.90154793, 2.73629874,\n",
       "       5.37407929, 5.44884796, 6.10986026, 5.23347291, 4.06816583,\n",
       "       4.54299104, 2.13293257, 5.91528224, 4.83365655, 4.32525254,\n",
       "       1.99022753, 3.57880091, 5.20901996, 2.72801841, 5.62713454,\n",
       "       2.066794  , 3.88401072, 2.29995067, 5.19787337, 5.533578  ,\n",
       "       3.64138853, 4.13847191, 4.11481784, 4.40861311, 2.82825327,\n",
       "       2.47588016, 2.70139359, 2.61114184, 3.85770879, 2.11943585,\n",
       "       4.81822343, 4.81315949, 4.79249547, 4.2267179 , 5.3593696 ,\n",
       "       4.52846652, 2.711114  , 5.17903133, 2.78382426, 3.47119143,\n",
       "       2.02362411, 4.99657276, 4.05644803, 3.7826321 , 2.51766398,\n",
       "       4.74748041, 4.98188186, 4.81575192, 4.86648353, 4.93379594,\n",
       "       2.91802119, 3.05281135, 4.27819469, 5.63483303, 3.96181889,\n",
       "       4.08391505, 4.65827513, 3.49051756, 4.26286511, 5.02392752,\n",
       "       4.9719927 , 4.2954668 , 4.24400696, 3.42357372, 3.90310156,\n",
       "       5.61210848, 3.44329745, 5.1656166 , 3.1979315 , 2.24723866,\n",
       "       3.44997661, 2.92705462, 3.97820676, 2.51551195, 2.34092154,\n",
       "       1.62200522, 5.34281456, 2.31193805, 4.35390023, 2.20881386,\n",
       "       4.36995999, 2.17776437, 5.0606992 , 5.99937354, 5.03599373,\n",
       "       3.1784227 , 4.83199104, 5.23921911, 4.13581323, 3.15895406,\n",
       "       5.90543346, 5.67030827, 4.51496208, 2.50910835, 2.64806277,\n",
       "       5.67340201, 4.24079922, 3.88870176, 3.44991157, 3.82728805,\n",
       "       4.15657309, 4.01946243, 5.01501892, 2.59211181, 3.69002481,\n",
       "       3.08266827, 3.52792607, 2.23260917, 5.03882005, 5.7735025 ,\n",
       "       4.48310829, 4.38507434, 3.71270175, 4.46996915, 3.30372619,\n",
       "       3.29111365, 2.84912166, 3.90359527, 3.66421458, 4.79313853,\n",
       "       2.79869323, 5.08634784, 3.33741574, 5.35703385, 3.62038296,\n",
       "       3.15445916, 3.90501875, 4.63416037, 4.74565152, 5.22546275,\n",
       "       4.42643104, 3.77327654, 5.70373226, 4.38785931, 4.40947267,\n",
       "       2.71814958, 4.94847345, 4.44567282, 2.88328723, 3.27258157,\n",
       "       4.66862323, 4.53597313, 3.07568098, 3.29100076, 3.97695973,\n",
       "       6.14208835, 3.3136429 , 2.64071271, 6.91366915, 4.31420624,\n",
       "       4.70308061, 5.1947885 , 2.70825882, 3.54133187, 2.69918066,\n",
       "       4.96020651, 3.01559973, 3.67137681, 5.72003643, 1.82847726,\n",
       "       2.99757572, 4.28054102, 5.07663243, 5.95411273, 4.50235762,\n",
       "       5.27313141, 4.46889404, 5.86977366, 4.79633581, 3.44287676,\n",
       "       4.20038431, 1.67868722, 2.33811957, 3.77043828, 2.27495344,\n",
       "       3.84011183, 3.92342587, 3.48981181, 1.69086312, 5.64682792,\n",
       "       2.50191521, 5.77862064, 5.91927717, 2.58550883, 3.77173424,\n",
       "       3.84216612, 3.46474156, 4.4903324 , 3.41515065, 3.18204813,\n",
       "       1.5062054 , 4.38531394, 2.93950869, 5.5125115 , 5.44429269,\n",
       "       3.56998949, 1.75366921, 1.93203738, 5.55782494, 3.45110192,\n",
       "       5.52992295, 4.36548408, 5.58358872, 4.28749165, 5.42847082,\n",
       "       3.60289499, 4.08861873, 4.41496381, 3.90920208, 4.47175202,\n",
       "       3.49947741, 5.62932757, 5.08836811, 3.01464766, 4.46422269,\n",
       "       3.61716251, 2.71184305, 5.2117097 , 1.93315669, 3.06282724,\n",
       "       3.93750241, 4.57602681, 3.53716661, 2.61040004, 4.72241666,\n",
       "       4.83715785, 4.18083788, 1.95280619, 4.16318262, 3.26253667,\n",
       "       2.33655807, 5.00054247, 2.92346813, 3.39718141, 2.40134237])"
      ]
     },
     "execution_count": 38,
     "metadata": {},
     "output_type": "execute_result"
    }
   ],
   "source": [
    "big_y"
   ]
  },
  {
   "cell_type": "code",
   "execution_count": 39,
   "metadata": {},
   "outputs": [
    {
     "name": "stdout",
     "output_type": "stream",
     "text": [
      "985 µs ± 20.7 µs per loop (mean ± std. dev. of 7 runs, 1000 loops each)\n",
      "22.8 µs ± 283 ns per loop (mean ± std. dev. of 7 runs, 10000 loops each)\n"
     ]
    }
   ],
   "source": [
    "%timeit reg1.fit(big_x, big_y)\n",
    "%timeit reg2.fit(big_x, big_y)"
   ]
  },
  {
   "cell_type": "code",
   "execution_count": 40,
   "metadata": {},
   "outputs": [
    {
     "data": {
      "text/plain": [
       "<matplotlib.collections.PathCollection at 0x12126b5d0>"
      ]
     },
     "execution_count": 40,
     "metadata": {},
     "output_type": "execute_result"
    },
    {
     "data": {
      "image/png": "[encoded data removed]",
      "text/plain": [
       "<Figure size 432x288 with 1 Axes>"
      ]
     },
     "metadata": {
      "needs_background": "light"
     },
     "output_type": "display_data"
    }
   ],
   "source": [
    "plt.scatter(big_x, big_y)"
   ]
  },
  {
   "cell_type": "code",
   "execution_count": 41,
   "metadata": {},
   "outputs": [
    {
     "data": {
      "text/plain": [
       "2.043706825425678"
      ]
     },
     "execution_count": 41,
     "metadata": {},
     "output_type": "execute_result"
    }
   ],
   "source": [
    "reg1.a_"
   ]
  },
  {
   "cell_type": "code",
   "execution_count": 42,
   "metadata": {},
   "outputs": [
    {
     "data": {
      "text/plain": [
       "2.958740340282957"
      ]
     },
     "execution_count": 42,
     "metadata": {},
     "output_type": "execute_result"
    }
   ],
   "source": [
    "reg1.b_"
   ]
  },
  {
   "cell_type": "code",
   "execution_count": 43,
   "metadata": {},
   "outputs": [
    {
     "data": {
      "text/plain": [
       "2.043706825425675"
      ]
     },
     "execution_count": 43,
     "metadata": {},
     "output_type": "execute_result"
    }
   ],
   "source": [
    "reg2.a_"
   ]
  },
  {
   "cell_type": "code",
   "execution_count": 44,
   "metadata": {},
   "outputs": [
    {
     "data": {
      "text/plain": [
       "2.958740340282959"
      ]
     },
     "execution_count": 44,
     "metadata": {},
     "output_type": "execute_result"
    }
   ],
   "source": [
    "reg2.b_"
   ]
  },
  {
   "cell_type": "code",
   "execution_count": null,
   "metadata": {},
   "outputs": [],
   "source": []
  }
 ],
 "metadata": {
  "kernelspec": {
   "display_name": "Python 3",
   "language": "python",
   "name": "python3"
  },
  "language_info": {
   "codemirror_mode": {
    "name": "ipython",
    "version": 3
   },
   "file_extension": ".py",
   "mimetype": "text/x-python",
   "name": "python",
   "nbconvert_exporter": "python",
   "pygments_lexer": "ipython3",
   "version": "3.7.4"
  }
 },
 "nbformat": 4,
 "nbformat_minor": 2
}
