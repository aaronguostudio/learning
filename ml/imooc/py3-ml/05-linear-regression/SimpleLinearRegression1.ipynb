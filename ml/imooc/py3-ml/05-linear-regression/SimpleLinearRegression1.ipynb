{
 "cells": [
  {
   "cell_type": "code",
   "execution_count": 1,
   "metadata": {},
   "outputs": [],
   "source": [
    "import numpy as np\n",
    "\n",
    "\"\"\"\n",
    "参数学习算法，不需要存储用户传入的数据集，\n",
    "只要记录学习之后获得的参数即可\n",
    "\"\"\"\n",
    "class SimpleLinearRegression1:\n",
    "    def __init__(self):\n",
    "        self.a_ = None\n",
    "        self.b_ = None\n",
    "    \n",
    "    def fit(self, x_train, y_train):\n",
    "        # train by x_train, y_train\n",
    "        assert x_train.ndim == 1, \\\n",
    "            \"Simple Linear Regressor can only solve sinlge feature training data.\"\n",
    "        assert len(x_train) == len(y_train)\n",
    "        \n",
    "        x_mean = np.mean(x_train)\n",
    "        y_mean = np.mean(y_train)\n",
    "\n",
    "        num = 0.0\n",
    "        d = 0.0\n",
    "\n",
    "        for x, y in zip(x_train, y_train):\n",
    "            num += (x - x_mean) * (y - y_mean)\n",
    "            d += (x - x_mean) ** 2\n",
    "\n",
    "        self.a_ = num / d\n",
    "        self.b_ = y_mean - self.a_ * x_mean\n",
    "        \n",
    "    # 给定待预测数据集 x_predict，返回表示 x_predict 的结果向量\n",
    "    def predict(self, x_predict):\n",
    "        \n",
    "        assert x_predict.ndim == 1\n",
    "        assert self.a_ is not None and self.b_ is not None, \\\n",
    "            \"must fit before predict\"\n",
    "        \n",
    "        return np.array([self._predict(x) for x in x_predict])\n",
    "    \n",
    "    def _predict(self, x_single):\n",
    "        return self.a_ * x_single + self.b_\n",
    "    \n",
    "    def __repr__(self):\n",
    "        return \"SimpleLinearRegression()\""
   ]
  },
  {
   "cell_type": "code",
   "execution_count": null,
   "metadata": {},
   "outputs": [],
   "source": []
  }
 ],
 "metadata": {
  "kernelspec": {
   "display_name": "Python 3",
   "language": "python",
   "name": "python3"
  },
  "language_info": {
   "codemirror_mode": {
    "name": "ipython",
    "version": 3
   },
   "file_extension": ".py",
   "mimetype": "text/x-python",
   "name": "python",
   "nbconvert_exporter": "python",
   "pygments_lexer": "ipython3",
   "version": "3.7.4"
  }
 },
 "nbformat": 4,
 "nbformat_minor": 2
}
