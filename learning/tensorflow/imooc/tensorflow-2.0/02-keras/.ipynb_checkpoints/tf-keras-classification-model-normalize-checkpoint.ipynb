{
 "cells": [
  {
   "cell_type": "code",
   "execution_count": 3,
   "metadata": {},
   "outputs": [
    {
     "name": "stdout",
     "output_type": "stream",
     "text": [
      "<module 'tensorflow_core._api.v2.version' from '/opt/anaconda3/envs/tensorflow-2/lib/python3.7/site-packages/tensorflow_core/_api/v2/version/__init__.py'>\n",
      "sys.version_info(major=3, minor=7, micro=5, releaselevel='final', serial=0)\n",
      "matplotlib 3.1.1\n",
      "numpy 1.17.3\n",
      "pandas 0.25.2\n",
      "sklearn 0.21.3\n",
      "tensorflow 2.0.0\n",
      "tensorflow_core.keras 2.2.4-tf\n",
      "(5000, 28, 28) (5000,)\n",
      "(55000, 28, 28) (55000,)\n",
      "(10000, 28, 28) (10000,)\n",
      "255 0\n",
      "2.0231433 -0.8105136\n",
      "===============================\n",
      "784\n",
      "===============================\n"
     ]
    }
   ],
   "source": [
    "import matplotlib as mpl\n",
    "import matplotlib.pyplot as plt\n",
    "%matplotlib inline\n",
    "import numpy as np\n",
    "import sklearn\n",
    "import pandas as pd\n",
    "import os\n",
    "import sys\n",
    "import time\n",
    "import tensorflow as tf\n",
    "\n",
    "from tensorflow import keras\n",
    "\n",
    "print(tf.version)\n",
    "print(sys.version_info)\n",
    "\n",
    "for module in mpl, np, pd, sklearn, tf, keras:\n",
    "  print(module.__name__, module.__version__)\n",
    "\n",
    "fashion_minst = keras.datasets.fashion_mnist\n",
    "\n",
    "(x_train_all, y_train_all), (x_test, y_test) = fashion_minst.load_data()\n",
    "\n",
    "x_valid, x_train = x_train_all = x_train_all[:5000], x_train_all[5000:]\n",
    "y_valid, y_train = y_train_all = y_train_all[:5000], y_train_all[5000:]\n",
    "\n",
    "print(x_valid.shape, y_valid.shape)\n",
    "print(x_train.shape, y_train.shape)\n",
    "print(x_test.shape, y_test.shape)\n",
    "\n",
    "# 归一化之前的最大和最小值\n",
    "print(np.max(x_train), np.min(x_train))\n",
    "\n",
    "# normalization\n",
    "# x = (x - u) / std, u 是均值 std 是方差，使数据呈现均值为 0，方差为 1 的正态分布\n",
    "\n",
    "from sklearn.preprocessing import StandardScaler\n",
    "\n",
    "scaler = StandardScaler()\n",
    "x_train_scaled = scaler.fit_transform(\n",
    "    x_train.astype(np.float32).reshape(-1, 1)\n",
    ").reshape(-1, 28, 28)\n",
    "\n",
    "x_valid_scaled = scaler.fit_transform(\n",
    "    x_valid.astype(np.float32).reshape(-1, 1)\n",
    ").reshape(-1, 28, 28)\n",
    "\n",
    "x_test_scaled = scaler.transform(\n",
    "    x_test.astype(np.float32).reshape(-1, 1)\n",
    ").reshape(-1, 28, 28)\n",
    "\n",
    "# 归一化之后的最大和最小值\n",
    "print(np.max(x_train_scaled), np.min(x_train_scaled))\n",
    "\n",
    "print('===============================')\n",
    "print(x_train[0].size)\n",
    "print('===============================')\n"
   ]
  },
  {
   "cell_type": "code",
   "execution_count": null,
   "metadata": {},
   "outputs": [],
   "source": [
    "def show_single_image(img_arr):\n",
    "  plt.imshow(img_arr, cmap=\"binary\")\n",
    "  plt.show()\n",
    "\n",
    "def show_images(n_rows, n_cols, x_data, y_data, class_names):\n",
    "  assert len(x_data) == len(y_data)\n",
    "  assert n_rows * n_cols < len(x_data)\n",
    "  plt.figure(figsize = (n_cols * 1.4, n_rows * 1.6))\n",
    "  for row in range(n_rows):\n",
    "    for col in range(n_cols):\n",
    "      index = n_cols * row + col\n",
    "      plt.subplot(n_rows, n_cols, index + 1)\n",
    "      plt.imshow(x_data[index], cmap=\"binary\", interpolation = 'nearest')\n",
    "      plt.axis('off')\n",
    "      plt.title(class_names[y_data[index]])\n",
    "  plt.show()\n",
    "\n",
    "class_names = ['T-shirt', 'Trouser', 'Pullover', 'Dress',\n",
    "               'Coat', 'Sandal', 'Shirt', 'Sneaker',\n",
    "               'Bag', 'Ankle boot']\n",
    "\n",
    "# show single or multiple images\n",
    "show_single_image(x_train[0])\n",
    "show_images(3, 5, x_train, y_train, class_names)\n",
    "\n",
    "# sequential\n",
    "# 全连接层和激活函数\n",
    "# relu, y = max(0, x)\n",
    "# softmax, 将向量变成概率分布 x = [x1, x2, x3], y = [e^x1 / sum, e^x2 / sum, e^x3 / sum], sum = e^x1 + e^x2 + e^x3\n",
    "model = keras.models.Sequential([\n",
    "  keras.layers.Flatten(input_shape = [28, 28]),\n",
    "  keras.layers.Dense(300, activation=\"relu\"),\n",
    "  keras.layers.Dense(100, activation=\"relu\"),\n",
    "  keras.layers.Dense(10, activation=\"softmax\")\n",
    "])\n",
    "\n",
    "\n",
    "model.compile(loss=\"sparse_categorical_crossentropy\",\n",
    "              optimizer = keras.optimizers.SGD(0.001),\n",
    "              metrics = [\"accuracy\"])"
   ]
  },
  {
   "cell_type": "code",
   "execution_count": null,
   "metadata": {},
   "outputs": [],
   "source": [
    "# 查看模型层数和概况\n",
    "# print(model.layers)\n",
    "# print(model.summary())\n",
    "\n",
    "history = model.fit(x_train_scaled, y_train, epochs=10, validation_data = (x_valid_scaled, y_valid))\n",
    "\n",
    "type(history)"
   ]
  },
  {
   "cell_type": "code",
   "execution_count": null,
   "metadata": {},
   "outputs": [],
   "source": [
    "history.history"
   ]
  },
  {
   "cell_type": "code",
   "execution_count": null,
   "metadata": {},
   "outputs": [],
   "source": [
    "def plot_learning_curves(history):\n",
    "    pd.DataFrame(history.history).plot(figsize=(8, 5))\n",
    "    plt.grid(True)\n",
    "    plt.gca().set_ylim(0, 1)\n",
    "    plt.show()"
   ]
  },
  {
   "cell_type": "code",
   "execution_count": null,
   "metadata": {},
   "outputs": [],
   "source": [
    "plot_learning_curves(history)"
   ]
  }
 ],
 "metadata": {
  "kernelspec": {
   "display_name": "Python 3",
   "language": "python",
   "name": "python3"
  },
  "language_info": {
   "codemirror_mode": {
    "name": "ipython",
    "version": 3
   },
   "file_extension": ".py",
   "mimetype": "text/x-python",
   "name": "python",
   "nbconvert_exporter": "python",
   "pygments_lexer": "ipython3",
   "version": "3.7.5"
  }
 },
 "nbformat": 4,
 "nbformat_minor": 2
}
