{
 "cells": [
  {
   "cell_type": "markdown",
   "metadata": {},
   "source": [
    "# 最值归一化 Normalization"
   ]
  },
  {
   "cell_type": "code",
   "execution_count": 1,
   "metadata": {},
   "outputs": [
    {
     "data": {
      "text/plain": [
       "array([95, 92, 67,  6, 18, 89, 26, 93, 91, 44, 96, 66, 35, 48, 89, 23,  8,\n",
       "       94, 84, 31, 28, 19, 51, 83, 55,  1, 70, 20, 40, 42,  9, 15, 69, 67,\n",
       "       79, 23, 91, 70, 23, 84, 79, 81, 15, 10,  2, 99, 19, 91,  7, 39, 49,\n",
       "       25, 67, 70, 46, 45,  7, 30, 61, 51, 33, 23, 18, 47, 89,  1, 30, 36,\n",
       "       53, 19, 41, 55, 21, 48, 53, 51, 50, 85, 82, 79, 96, 89, 13,  7, 26,\n",
       "       14, 78, 84, 34, 58, 84, 20, 84, 97, 98, 58, 57, 15, 47, 42])"
      ]
     },
     "execution_count": 1,
     "metadata": {},
     "output_type": "execute_result"
    }
   ],
   "source": [
    "import numpy as np\n",
    "import matplotlib.pyplot as plt\n",
    "\n",
    "x = np.random.randint(0, 100, size=100)\n",
    "x"
   ]
  },
  {
   "cell_type": "code",
   "execution_count": 2,
   "metadata": {},
   "outputs": [
    {
     "data": {
      "text/plain": [
       "array([0.95918367, 0.92857143, 0.67346939, 0.05102041, 0.17346939,\n",
       "       0.89795918, 0.25510204, 0.93877551, 0.91836735, 0.43877551,\n",
       "       0.96938776, 0.66326531, 0.34693878, 0.47959184, 0.89795918,\n",
       "       0.2244898 , 0.07142857, 0.94897959, 0.84693878, 0.30612245,\n",
       "       0.2755102 , 0.18367347, 0.51020408, 0.83673469, 0.55102041,\n",
       "       0.        , 0.70408163, 0.19387755, 0.39795918, 0.41836735,\n",
       "       0.08163265, 0.14285714, 0.69387755, 0.67346939, 0.79591837,\n",
       "       0.2244898 , 0.91836735, 0.70408163, 0.2244898 , 0.84693878,\n",
       "       0.79591837, 0.81632653, 0.14285714, 0.09183673, 0.01020408,\n",
       "       1.        , 0.18367347, 0.91836735, 0.06122449, 0.3877551 ,\n",
       "       0.48979592, 0.24489796, 0.67346939, 0.70408163, 0.45918367,\n",
       "       0.44897959, 0.06122449, 0.29591837, 0.6122449 , 0.51020408,\n",
       "       0.32653061, 0.2244898 , 0.17346939, 0.46938776, 0.89795918,\n",
       "       0.        , 0.29591837, 0.35714286, 0.53061224, 0.18367347,\n",
       "       0.40816327, 0.55102041, 0.20408163, 0.47959184, 0.53061224,\n",
       "       0.51020408, 0.5       , 0.85714286, 0.82653061, 0.79591837,\n",
       "       0.96938776, 0.89795918, 0.12244898, 0.06122449, 0.25510204,\n",
       "       0.13265306, 0.78571429, 0.84693878, 0.33673469, 0.58163265,\n",
       "       0.84693878, 0.19387755, 0.84693878, 0.97959184, 0.98979592,\n",
       "       0.58163265, 0.57142857, 0.14285714, 0.46938776, 0.41836735])"
      ]
     },
     "execution_count": 2,
     "metadata": {},
     "output_type": "execute_result"
    }
   ],
   "source": [
    "normlization = (x - np.min(x)) / (np.max(x) - np.min(x))\n",
    "normlization"
   ]
  },
  {
   "cell_type": "code",
   "execution_count": 3,
   "metadata": {},
   "outputs": [
    {
     "data": {
      "text/plain": [
       "array([[38, 94],\n",
       "       [66, 38],\n",
       "       [48, 36],\n",
       "       [32, 76],\n",
       "       [10, 71],\n",
       "       [57,  7],\n",
       "       [62, 53],\n",
       "       [92, 86],\n",
       "       [31, 35],\n",
       "       [32, 37],\n",
       "       [ 6, 46],\n",
       "       [32, 85],\n",
       "       [67, 42],\n",
       "       [84, 94],\n",
       "       [34, 75],\n",
       "       [10, 31],\n",
       "       [58, 83],\n",
       "       [74, 73],\n",
       "       [39, 96],\n",
       "       [43, 23],\n",
       "       [80, 94],\n",
       "       [43, 88],\n",
       "       [99, 30],\n",
       "       [69, 29],\n",
       "       [47, 19],\n",
       "       [12, 64],\n",
       "       [83, 24],\n",
       "       [82, 53],\n",
       "       [92, 49],\n",
       "       [36, 69],\n",
       "       [59, 79],\n",
       "       [38, 30],\n",
       "       [95, 81],\n",
       "       [71, 65],\n",
       "       [10, 21],\n",
       "       [57, 13],\n",
       "       [17, 83],\n",
       "       [27, 63],\n",
       "       [32, 59],\n",
       "       [40, 83],\n",
       "       [89, 53],\n",
       "       [87, 37],\n",
       "       [43, 94],\n",
       "       [15, 81],\n",
       "       [17, 54],\n",
       "       [60, 95],\n",
       "       [98, 95],\n",
       "       [ 1, 75],\n",
       "       [25, 48],\n",
       "       [32, 87]])"
      ]
     },
     "execution_count": 3,
     "metadata": {},
     "output_type": "execute_result"
    }
   ],
   "source": [
    "X = np.random.randint(0, 100, (50, 2))\n",
    "X"
   ]
  },
  {
   "cell_type": "code",
   "execution_count": 4,
   "metadata": {},
   "outputs": [
    {
     "data": {
      "text/plain": [
       "array([[38., 94.],\n",
       "       [66., 38.],\n",
       "       [48., 36.],\n",
       "       [32., 76.],\n",
       "       [10., 71.],\n",
       "       [57.,  7.],\n",
       "       [62., 53.],\n",
       "       [92., 86.],\n",
       "       [31., 35.],\n",
       "       [32., 37.]])"
      ]
     },
     "execution_count": 4,
     "metadata": {},
     "output_type": "execute_result"
    }
   ],
   "source": [
    "# 转换数据类型\n",
    "X = np.array(X, dtype=float)\n",
    "X[:10]"
   ]
  },
  {
   "cell_type": "code",
   "execution_count": 5,
   "metadata": {},
   "outputs": [],
   "source": [
    "X[:,0] = (X[:,0] - np.min(X[:,0])) / (np.max(X[:,0]) - np.min(X[:,0]))\n",
    "X[:,1] = (X[:,1] - np.min(X[:,1])) / (np.max(X[:,1]) - np.min(X[:,1]))"
   ]
  },
  {
   "cell_type": "code",
   "execution_count": 6,
   "metadata": {},
   "outputs": [
    {
     "data": {
      "text/plain": [
       "array([[0.37755102, 0.97752809],\n",
       "       [0.66326531, 0.34831461],\n",
       "       [0.47959184, 0.3258427 ],\n",
       "       [0.31632653, 0.7752809 ],\n",
       "       [0.09183673, 0.71910112],\n",
       "       [0.57142857, 0.        ],\n",
       "       [0.62244898, 0.51685393],\n",
       "       [0.92857143, 0.88764045],\n",
       "       [0.30612245, 0.31460674],\n",
       "       [0.31632653, 0.33707865],\n",
       "       [0.05102041, 0.43820225],\n",
       "       [0.31632653, 0.87640449],\n",
       "       [0.67346939, 0.39325843],\n",
       "       [0.84693878, 0.97752809],\n",
       "       [0.33673469, 0.76404494],\n",
       "       [0.09183673, 0.26966292],\n",
       "       [0.58163265, 0.85393258],\n",
       "       [0.74489796, 0.74157303],\n",
       "       [0.3877551 , 1.        ],\n",
       "       [0.42857143, 0.17977528],\n",
       "       [0.80612245, 0.97752809],\n",
       "       [0.42857143, 0.91011236],\n",
       "       [1.        , 0.25842697],\n",
       "       [0.69387755, 0.24719101],\n",
       "       [0.46938776, 0.13483146],\n",
       "       [0.1122449 , 0.64044944],\n",
       "       [0.83673469, 0.19101124],\n",
       "       [0.82653061, 0.51685393],\n",
       "       [0.92857143, 0.47191011],\n",
       "       [0.35714286, 0.69662921],\n",
       "       [0.59183673, 0.80898876],\n",
       "       [0.37755102, 0.25842697],\n",
       "       [0.95918367, 0.83146067],\n",
       "       [0.71428571, 0.65168539],\n",
       "       [0.09183673, 0.15730337],\n",
       "       [0.57142857, 0.06741573],\n",
       "       [0.16326531, 0.85393258],\n",
       "       [0.26530612, 0.62921348],\n",
       "       [0.31632653, 0.58426966],\n",
       "       [0.39795918, 0.85393258],\n",
       "       [0.89795918, 0.51685393],\n",
       "       [0.87755102, 0.33707865],\n",
       "       [0.42857143, 0.97752809],\n",
       "       [0.14285714, 0.83146067],\n",
       "       [0.16326531, 0.52808989],\n",
       "       [0.60204082, 0.98876404],\n",
       "       [0.98979592, 0.98876404],\n",
       "       [0.        , 0.76404494],\n",
       "       [0.24489796, 0.46067416],\n",
       "       [0.31632653, 0.8988764 ]])"
      ]
     },
     "execution_count": 6,
     "metadata": {},
     "output_type": "execute_result"
    }
   ],
   "source": [
    "X"
   ]
  },
  {
   "cell_type": "code",
   "execution_count": 7,
   "metadata": {},
   "outputs": [
    {
     "data": {
      "text/plain": [
       "<matplotlib.collections.PathCollection at 0x11a7b3dd8>"
      ]
     },
     "execution_count": 7,
     "metadata": {},
     "output_type": "execute_result"
    },
    {
     "data": {
      "image/png": "[encoded data removed]",
      "text/plain": [
       "<Figure size 432x288 with 1 Axes>"
      ]
     },
     "metadata": {
      "needs_background": "light"
     },
     "output_type": "display_data"
    }
   ],
   "source": [
    "plt.scatter(X[:,0], X[:,1])"
   ]
  },
  {
   "cell_type": "code",
   "execution_count": 8,
   "metadata": {},
   "outputs": [
    {
     "data": {
      "text/plain": [
       "0.49408163265306126"
      ]
     },
     "execution_count": 8,
     "metadata": {},
     "output_type": "execute_result"
    }
   ],
   "source": [
    "np.mean(X[:,0])"
   ]
  },
  {
   "cell_type": "code",
   "execution_count": 9,
   "metadata": {},
   "outputs": [
    {
     "data": {
      "text/plain": [
       "0.2811226526907666"
      ]
     },
     "execution_count": 9,
     "metadata": {},
     "output_type": "execute_result"
    }
   ],
   "source": [
    "np.std(X[:, 0])"
   ]
  },
  {
   "cell_type": "code",
   "execution_count": 10,
   "metadata": {},
   "outputs": [
    {
     "data": {
      "text/plain": [
       "0.5946067415730336"
      ]
     },
     "execution_count": 10,
     "metadata": {},
     "output_type": "execute_result"
    }
   ],
   "source": [
    "np.mean(X[:,1])"
   ]
  },
  {
   "cell_type": "code",
   "execution_count": 11,
   "metadata": {},
   "outputs": [
    {
     "data": {
      "text/plain": [
       "0.2901387293388123"
      ]
     },
     "execution_count": 11,
     "metadata": {},
     "output_type": "execute_result"
    }
   ],
   "source": [
    "np.std(X[:,1])"
   ]
  },
  {
   "cell_type": "markdown",
   "metadata": {},
   "source": [
    "# 均值方差归一化 Standardization"
   ]
  },
  {
   "cell_type": "code",
   "execution_count": 12,
   "metadata": {},
   "outputs": [
    {
     "data": {
      "text/plain": [
       "array([[13., 43.],\n",
       "       [55., 47.],\n",
       "       [30., 33.],\n",
       "       [99.,  1.],\n",
       "       [73., 81.],\n",
       "       [65., 87.],\n",
       "       [88., 10.],\n",
       "       [86., 56.],\n",
       "       [ 7., 11.],\n",
       "       [76., 26.],\n",
       "       [75., 51.],\n",
       "       [78., 17.],\n",
       "       [13.,  3.],\n",
       "       [63., 67.],\n",
       "       [90., 84.],\n",
       "       [16., 70.],\n",
       "       [44., 99.],\n",
       "       [49., 98.],\n",
       "       [61., 91.],\n",
       "       [77., 73.],\n",
       "       [29., 48.],\n",
       "       [68., 38.],\n",
       "       [63., 39.],\n",
       "       [23., 35.],\n",
       "       [ 3., 78.],\n",
       "       [42., 57.],\n",
       "       [19., 75.],\n",
       "       [49., 54.],\n",
       "       [87., 58.],\n",
       "       [82., 83.],\n",
       "       [85., 46.],\n",
       "       [22., 99.],\n",
       "       [65., 83.],\n",
       "       [47., 40.],\n",
       "       [72., 68.],\n",
       "       [58., 25.],\n",
       "       [86., 20.],\n",
       "       [59., 71.],\n",
       "       [62., 87.],\n",
       "       [94., 32.],\n",
       "       [85., 15.],\n",
       "       [97., 26.],\n",
       "       [48., 54.],\n",
       "       [22., 30.],\n",
       "       [73., 22.],\n",
       "       [45., 67.],\n",
       "       [61., 26.],\n",
       "       [68., 14.],\n",
       "       [ 7., 49.],\n",
       "       [43., 46.]])"
      ]
     },
     "execution_count": 12,
     "metadata": {},
     "output_type": "execute_result"
    }
   ],
   "source": [
    "X2 = np.random.randint(0, 100, (50,2))\n",
    "X2 = np.array(X2, dtype=float)\n",
    "X2"
   ]
  },
  {
   "cell_type": "code",
   "execution_count": 13,
   "metadata": {},
   "outputs": [],
   "source": [
    "X2[:,0] = (X2[:,0] - np.mean(X2[:,0])) / np.std(X2[:,0])\n",
    "X2[:,1] = (X2[:,1] - np.mean(X2[:,1])) / np.std(X2[:,1])"
   ]
  },
  {
   "cell_type": "code",
   "execution_count": 14,
   "metadata": {},
   "outputs": [
    {
     "data": {
      "text/plain": [
       "8.659739592076221e-17"
      ]
     },
     "execution_count": 14,
     "metadata": {},
     "output_type": "execute_result"
    }
   ],
   "source": [
    "np.mean(X2[:,0])"
   ]
  },
  {
   "cell_type": "code",
   "execution_count": 15,
   "metadata": {},
   "outputs": [
    {
     "data": {
      "text/plain": [
       "1.3489209749195653e-16"
      ]
     },
     "execution_count": 15,
     "metadata": {},
     "output_type": "execute_result"
    }
   ],
   "source": [
    "np.mean(X2[:,1])"
   ]
  },
  {
   "cell_type": "code",
   "execution_count": 16,
   "metadata": {},
   "outputs": [
    {
     "data": {
      "text/plain": [
       "0.9999999999999998"
      ]
     },
     "execution_count": 16,
     "metadata": {},
     "output_type": "execute_result"
    }
   ],
   "source": [
    "np.std(X2[:,1])"
   ]
  },
  {
   "cell_type": "code",
   "execution_count": 17,
   "metadata": {},
   "outputs": [
    {
     "data": {
      "text/plain": [
       "0.9999999999999998"
      ]
     },
     "execution_count": 17,
     "metadata": {},
     "output_type": "execute_result"
    }
   ],
   "source": [
    "np.std(X2[:,1])"
   ]
  },
  {
   "cell_type": "code",
   "execution_count": 18,
   "metadata": {},
   "outputs": [
    {
     "data": {
      "text/plain": [
       "<matplotlib.collections.PathCollection at 0x11a853470>"
      ]
     },
     "execution_count": 18,
     "metadata": {},
     "output_type": "execute_result"
    },
    {
     "data": {
      "image/png": "[encoded data removed]",
      "text/plain": [
       "<Figure size 432x288 with 1 Axes>"
      ]
     },
     "metadata": {
      "needs_background": "light"
     },
     "output_type": "display_data"
    }
   ],
   "source": [
    "plt.scatter(X2[:,0], X2[:,1])"
   ]
  },
  {
   "cell_type": "code",
   "execution_count": null,
   "metadata": {},
   "outputs": [],
   "source": []
  }
 ],
 "metadata": {
  "kernelspec": {
   "display_name": "Python 3",
   "language": "python",
   "name": "python3"
  },
  "language_info": {
   "codemirror_mode": {
    "name": "ipython",
    "version": 3
   },
   "file_extension": ".py",
   "mimetype": "text/x-python",
   "name": "python",
   "nbconvert_exporter": "python",
   "pygments_lexer": "ipython3",
   "version": "3.7.0"
  }
 },
 "nbformat": 4,
 "nbformat_minor": 2
}
