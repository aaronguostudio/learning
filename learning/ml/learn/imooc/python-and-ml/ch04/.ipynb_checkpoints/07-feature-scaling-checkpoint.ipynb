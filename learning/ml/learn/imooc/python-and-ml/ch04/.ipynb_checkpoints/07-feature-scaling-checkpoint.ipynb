{
 "cells": [
  {
   "cell_type": "markdown",
   "metadata": {},
   "source": [
    "# 最值归一化 Normalization"
   ]
  },
  {
   "cell_type": "code",
   "execution_count": 1,
   "metadata": {},
   "outputs": [
    {
     "data": {
      "text/plain": [
       "array([ 4, 90, 86, 27, 94, 81, 73, 44, 95, 47, 62, 28, 63, 56, 90, 38, 47,\n",
       "       83, 38,  4, 46, 22,  7, 71,  3, 67, 28, 42, 54, 21, 53, 54, 14, 38,\n",
       "       21, 86, 85, 99, 79, 48,  6, 22, 15, 25,  5, 33, 65, 56, 57, 93, 50,\n",
       "       96, 20, 98, 98, 80, 38, 15, 46, 90, 57, 43, 97, 53, 48, 39, 98, 45,\n",
       "       34, 17,  3, 48, 65, 79, 10, 46, 15, 17, 43, 34, 48, 92, 65, 94, 53,\n",
       "       75, 78, 97,  3, 85, 31, 30, 71, 30, 44, 54, 45, 22, 49,  5])"
      ]
     },
     "execution_count": 1,
     "metadata": {},
     "output_type": "execute_result"
    }
   ],
   "source": [
    "import numpy as np\n",
    "import matplotlib.pyplot as plt\n",
    "\n",
    "x = np.random.randint(0, 100, size=100)\n",
    "x"
   ]
  },
  {
   "cell_type": "code",
   "execution_count": 2,
   "metadata": {},
   "outputs": [
    {
     "data": {
      "text/plain": [
       "array([0.01041667, 0.90625   , 0.86458333, 0.25      , 0.94791667,\n",
       "       0.8125    , 0.72916667, 0.42708333, 0.95833333, 0.45833333,\n",
       "       0.61458333, 0.26041667, 0.625     , 0.55208333, 0.90625   ,\n",
       "       0.36458333, 0.45833333, 0.83333333, 0.36458333, 0.01041667,\n",
       "       0.44791667, 0.19791667, 0.04166667, 0.70833333, 0.        ,\n",
       "       0.66666667, 0.26041667, 0.40625   , 0.53125   , 0.1875    ,\n",
       "       0.52083333, 0.53125   , 0.11458333, 0.36458333, 0.1875    ,\n",
       "       0.86458333, 0.85416667, 1.        , 0.79166667, 0.46875   ,\n",
       "       0.03125   , 0.19791667, 0.125     , 0.22916667, 0.02083333,\n",
       "       0.3125    , 0.64583333, 0.55208333, 0.5625    , 0.9375    ,\n",
       "       0.48958333, 0.96875   , 0.17708333, 0.98958333, 0.98958333,\n",
       "       0.80208333, 0.36458333, 0.125     , 0.44791667, 0.90625   ,\n",
       "       0.5625    , 0.41666667, 0.97916667, 0.52083333, 0.46875   ,\n",
       "       0.375     , 0.98958333, 0.4375    , 0.32291667, 0.14583333,\n",
       "       0.        , 0.46875   , 0.64583333, 0.79166667, 0.07291667,\n",
       "       0.44791667, 0.125     , 0.14583333, 0.41666667, 0.32291667,\n",
       "       0.46875   , 0.92708333, 0.64583333, 0.94791667, 0.52083333,\n",
       "       0.75      , 0.78125   , 0.97916667, 0.        , 0.85416667,\n",
       "       0.29166667, 0.28125   , 0.70833333, 0.28125   , 0.42708333,\n",
       "       0.53125   , 0.4375    , 0.19791667, 0.47916667, 0.02083333])"
      ]
     },
     "execution_count": 2,
     "metadata": {},
     "output_type": "execute_result"
    }
   ],
   "source": [
    "normlization = (x - np.min(x)) / (np.max(x) - np.min(x))\n",
    "normlization"
   ]
  },
  {
   "cell_type": "code",
   "execution_count": 3,
   "metadata": {},
   "outputs": [
    {
     "data": {
      "text/plain": [
       "array([[39, 79],\n",
       "       [70, 14],\n",
       "       [92, 20],\n",
       "       [38, 45],\n",
       "       [40, 86],\n",
       "       [64, 54],\n",
       "       [91, 48],\n",
       "       [65, 80],\n",
       "       [77, 58],\n",
       "       [84, 34],\n",
       "       [76, 59],\n",
       "       [29, 69],\n",
       "       [85, 62],\n",
       "       [ 0, 93],\n",
       "       [53, 86],\n",
       "       [76, 35],\n",
       "       [36, 84],\n",
       "       [61,  1],\n",
       "       [75, 47],\n",
       "       [17, 18],\n",
       "       [60, 51],\n",
       "       [40, 86],\n",
       "       [46, 66],\n",
       "       [92, 87],\n",
       "       [50, 17],\n",
       "       [69, 26],\n",
       "       [51, 81],\n",
       "       [56, 72],\n",
       "       [22,  6],\n",
       "       [15,  1],\n",
       "       [91, 55],\n",
       "       [ 6, 23],\n",
       "       [88, 78],\n",
       "       [69, 49],\n",
       "       [31, 96],\n",
       "       [ 0, 54],\n",
       "       [80, 15],\n",
       "       [68, 68],\n",
       "       [90, 79],\n",
       "       [70, 23],\n",
       "       [24, 43],\n",
       "       [34, 69],\n",
       "       [64, 10],\n",
       "       [68, 69],\n",
       "       [75, 40],\n",
       "       [48, 95],\n",
       "       [38, 28],\n",
       "       [90, 11],\n",
       "       [ 9, 79],\n",
       "       [38, 48]])"
      ]
     },
     "execution_count": 3,
     "metadata": {},
     "output_type": "execute_result"
    }
   ],
   "source": [
    "X = np.random.randint(0, 100, (50, 2))\n",
    "X"
   ]
  },
  {
   "cell_type": "code",
   "execution_count": 4,
   "metadata": {},
   "outputs": [
    {
     "data": {
      "text/plain": [
       "array([[39., 79.],\n",
       "       [70., 14.],\n",
       "       [92., 20.],\n",
       "       [38., 45.],\n",
       "       [40., 86.],\n",
       "       [64., 54.],\n",
       "       [91., 48.],\n",
       "       [65., 80.],\n",
       "       [77., 58.],\n",
       "       [84., 34.]])"
      ]
     },
     "execution_count": 4,
     "metadata": {},
     "output_type": "execute_result"
    }
   ],
   "source": [
    "# 转换数据类型\n",
    "X = np.array(X, dtype=float)\n",
    "X[:10]"
   ]
  },
  {
   "cell_type": "code",
   "execution_count": 5,
   "metadata": {},
   "outputs": [],
   "source": [
    "X[:,0] = (X[:,0] - np.min(X[:,0])) / (np.max(X[:,0]) - np.min(X[:,0]))\n",
    "X[:,1] = (X[:,1] - np.min(X[:,1])) / (np.max(X[:,1]) - np.min(X[:,1]))"
   ]
  },
  {
   "cell_type": "code",
   "execution_count": 6,
   "metadata": {},
   "outputs": [
    {
     "data": {
      "text/plain": [
       "array([[0.42391304, 0.82105263],\n",
       "       [0.76086957, 0.13684211],\n",
       "       [1.        , 0.2       ],\n",
       "       [0.41304348, 0.46315789],\n",
       "       [0.43478261, 0.89473684],\n",
       "       [0.69565217, 0.55789474],\n",
       "       [0.98913043, 0.49473684],\n",
       "       [0.70652174, 0.83157895],\n",
       "       [0.83695652, 0.6       ],\n",
       "       [0.91304348, 0.34736842],\n",
       "       [0.82608696, 0.61052632],\n",
       "       [0.31521739, 0.71578947],\n",
       "       [0.92391304, 0.64210526],\n",
       "       [0.        , 0.96842105],\n",
       "       [0.57608696, 0.89473684],\n",
       "       [0.82608696, 0.35789474],\n",
       "       [0.39130435, 0.87368421],\n",
       "       [0.66304348, 0.        ],\n",
       "       [0.81521739, 0.48421053],\n",
       "       [0.18478261, 0.17894737],\n",
       "       [0.65217391, 0.52631579],\n",
       "       [0.43478261, 0.89473684],\n",
       "       [0.5       , 0.68421053],\n",
       "       [1.        , 0.90526316],\n",
       "       [0.54347826, 0.16842105],\n",
       "       [0.75      , 0.26315789],\n",
       "       [0.55434783, 0.84210526],\n",
       "       [0.60869565, 0.74736842],\n",
       "       [0.23913043, 0.05263158],\n",
       "       [0.16304348, 0.        ],\n",
       "       [0.98913043, 0.56842105],\n",
       "       [0.06521739, 0.23157895],\n",
       "       [0.95652174, 0.81052632],\n",
       "       [0.75      , 0.50526316],\n",
       "       [0.33695652, 1.        ],\n",
       "       [0.        , 0.55789474],\n",
       "       [0.86956522, 0.14736842],\n",
       "       [0.73913043, 0.70526316],\n",
       "       [0.97826087, 0.82105263],\n",
       "       [0.76086957, 0.23157895],\n",
       "       [0.26086957, 0.44210526],\n",
       "       [0.36956522, 0.71578947],\n",
       "       [0.69565217, 0.09473684],\n",
       "       [0.73913043, 0.71578947],\n",
       "       [0.81521739, 0.41052632],\n",
       "       [0.52173913, 0.98947368],\n",
       "       [0.41304348, 0.28421053],\n",
       "       [0.97826087, 0.10526316],\n",
       "       [0.09782609, 0.82105263],\n",
       "       [0.41304348, 0.49473684]])"
      ]
     },
     "execution_count": 6,
     "metadata": {},
     "output_type": "execute_result"
    }
   ],
   "source": [
    "X"
   ]
  },
  {
   "cell_type": "code",
   "execution_count": 7,
   "metadata": {},
   "outputs": [
    {
     "data": {
      "text/plain": [
       "<matplotlib.collections.PathCollection at 0x1116e3d68>"
      ]
     },
     "execution_count": 7,
     "metadata": {},
     "output_type": "execute_result"
    },
    {
     "data": {
      "image/png": "[encoded data removed]",
      "text/plain": [
       "<Figure size 432x288 with 1 Axes>"
      ]
     },
     "metadata": {
      "needs_background": "light"
     },
     "output_type": "display_data"
    }
   ],
   "source": [
    "plt.scatter(X[:,0], X[:,1])"
   ]
  },
  {
   "cell_type": "code",
   "execution_count": 8,
   "metadata": {},
   "outputs": [
    {
     "data": {
      "text/plain": [
       "0.5978260869565218"
      ]
     },
     "execution_count": 8,
     "metadata": {},
     "output_type": "execute_result"
    }
   ],
   "source": [
    "np.mean(X[:,0])"
   ]
  },
  {
   "cell_type": "code",
   "execution_count": 9,
   "metadata": {},
   "outputs": [
    {
     "data": {
      "text/plain": [
       "0.28497338448998155"
      ]
     },
     "execution_count": 9,
     "metadata": {},
     "output_type": "execute_result"
    }
   ],
   "source": [
    "np.std(X[:, 0])"
   ]
  },
  {
   "cell_type": "code",
   "execution_count": 10,
   "metadata": {},
   "outputs": [
    {
     "data": {
      "text/plain": [
       "0.5362105263157894"
      ]
     },
     "execution_count": 10,
     "metadata": {},
     "output_type": "execute_result"
    }
   ],
   "source": [
    "np.mean(X[:,1])"
   ]
  },
  {
   "cell_type": "code",
   "execution_count": 11,
   "metadata": {},
   "outputs": [
    {
     "data": {
      "text/plain": [
       "0.29194474489536915"
      ]
     },
     "execution_count": 11,
     "metadata": {},
     "output_type": "execute_result"
    }
   ],
   "source": [
    "np.std(X[:,1])"
   ]
  },
  {
   "cell_type": "markdown",
   "metadata": {},
   "source": [
    "# 均值方差归一化 Standardization"
   ]
  },
  {
   "cell_type": "code",
   "execution_count": 12,
   "metadata": {},
   "outputs": [
    {
     "data": {
      "text/plain": [
       "array([[18.,  4.],\n",
       "       [28., 62.],\n",
       "       [84., 87.],\n",
       "       [38., 95.],\n",
       "       [74., 53.],\n",
       "       [82., 81.],\n",
       "       [43., 64.],\n",
       "       [45., 29.],\n",
       "       [35., 79.],\n",
       "       [90.,  4.],\n",
       "       [ 2., 23.],\n",
       "       [22., 59.],\n",
       "       [57., 14.],\n",
       "       [16., 11.],\n",
       "       [10.,  5.],\n",
       "       [23., 85.],\n",
       "       [23., 34.],\n",
       "       [62., 74.],\n",
       "       [69., 54.],\n",
       "       [22., 38.],\n",
       "       [60., 28.],\n",
       "       [78., 20.],\n",
       "       [ 7., 33.],\n",
       "       [83., 24.],\n",
       "       [87., 72.],\n",
       "       [77., 28.],\n",
       "       [33., 10.],\n",
       "       [89., 46.],\n",
       "       [23., 98.],\n",
       "       [ 2., 23.],\n",
       "       [19., 88.],\n",
       "       [97., 84.],\n",
       "       [15., 99.],\n",
       "       [66., 50.],\n",
       "       [37.,  6.],\n",
       "       [82., 64.],\n",
       "       [24., 38.],\n",
       "       [46., 43.],\n",
       "       [55., 42.],\n",
       "       [62., 75.],\n",
       "       [10., 76.],\n",
       "       [29., 51.],\n",
       "       [57., 44.],\n",
       "       [45., 48.],\n",
       "       [10., 13.],\n",
       "       [ 2., 44.],\n",
       "       [28., 64.],\n",
       "       [91., 73.],\n",
       "       [76., 19.],\n",
       "       [65., 39.]])"
      ]
     },
     "execution_count": 12,
     "metadata": {},
     "output_type": "execute_result"
    }
   ],
   "source": [
    "X2 = np.random.randint(0, 100, (50,2))\n",
    "X2 = np.array(X2, dtype=float)\n",
    "X2"
   ]
  },
  {
   "cell_type": "code",
   "execution_count": 13,
   "metadata": {},
   "outputs": [],
   "source": [
    "X2[:,0] = (X2[:,0] - np.mean(X2[:,0])) / np.std(X2[:,0])\n",
    "X2[:,1] = (X2[:,1] - np.mean(X2[:,1])) / np.std(X2[:,1])"
   ]
  },
  {
   "cell_type": "code",
   "execution_count": 14,
   "metadata": {},
   "outputs": [
    {
     "data": {
      "text/plain": [
       "-2.2204460492503132e-17"
      ]
     },
     "execution_count": 14,
     "metadata": {},
     "output_type": "execute_result"
    }
   ],
   "source": [
    "np.mean(X2[:,0])"
   ]
  },
  {
   "cell_type": "code",
   "execution_count": 15,
   "metadata": {},
   "outputs": [
    {
     "data": {
      "text/plain": [
       "9.880984919163893e-17"
      ]
     },
     "execution_count": 15,
     "metadata": {},
     "output_type": "execute_result"
    }
   ],
   "source": [
    "np.mean(X2[:,1])"
   ]
  },
  {
   "cell_type": "code",
   "execution_count": 16,
   "metadata": {},
   "outputs": [
    {
     "data": {
      "text/plain": [
       "1.0"
      ]
     },
     "execution_count": 16,
     "metadata": {},
     "output_type": "execute_result"
    }
   ],
   "source": [
    "np.std(X2[:,1])"
   ]
  },
  {
   "cell_type": "code",
   "execution_count": 17,
   "metadata": {},
   "outputs": [
    {
     "data": {
      "text/plain": [
       "1.0"
      ]
     },
     "execution_count": 17,
     "metadata": {},
     "output_type": "execute_result"
    }
   ],
   "source": [
    "np.std(X2[:,1])"
   ]
  },
  {
   "cell_type": "code",
   "execution_count": 18,
   "metadata": {},
   "outputs": [
    {
     "data": {
      "text/plain": [
       "<matplotlib.collections.PathCollection at 0x111783390>"
      ]
     },
     "execution_count": 18,
     "metadata": {},
     "output_type": "execute_result"
    },
    {
     "data": {
      "image/png": "[encoded data removed]",
      "text/plain": [
       "<Figure size 432x288 with 1 Axes>"
      ]
     },
     "metadata": {
      "needs_background": "light"
     },
     "output_type": "display_data"
    }
   ],
   "source": [
    "plt.scatter(X2[:,0], X2[:,1])"
   ]
  },
  {
   "cell_type": "code",
   "execution_count": null,
   "metadata": {},
   "outputs": [],
   "source": []
  },
  {
   "cell_type": "code",
   "execution_count": null,
   "metadata": {},
   "outputs": [],
   "source": []
  },
  {
   "cell_type": "code",
   "execution_count": null,
   "metadata": {},
   "outputs": [],
   "source": []
  }
 ],
 "metadata": {
  "kernelspec": {
   "display_name": "Python 3",
   "language": "python",
   "name": "python3"
  },
  "language_info": {
   "codemirror_mode": {
    "name": "ipython",
    "version": 3
   },
   "file_extension": ".py",
   "mimetype": "text/x-python",
   "name": "python",
   "nbconvert_exporter": "python",
   "pygments_lexer": "ipython3",
   "version": "3.7.0"
  }
 },
 "nbformat": 4,
 "nbformat_minor": 2
}
