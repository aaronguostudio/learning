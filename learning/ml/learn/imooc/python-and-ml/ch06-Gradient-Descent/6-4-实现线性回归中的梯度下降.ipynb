{
 "cells": [
  {
   "cell_type": "markdown",
   "metadata": {},
   "source": [
    "# 再线性回归模型中使用梯度下降法"
   ]
  },
  {
   "cell_type": "code",
   "execution_count": 1,
   "metadata": {},
   "outputs": [],
   "source": [
    "import numpy as np\n",
    "import matplotlib.pyplot as plt"
   ]
  },
  {
   "cell_type": "code",
   "execution_count": 2,
   "metadata": {},
   "outputs": [
    {
     "name": "stdout",
     "output_type": "stream",
     "text": [
      "[1.53319985 0.35924804 0.55558289 1.06329973 0.75328401 1.71893506\n",
      " 0.20908803 1.07869972 0.78077417 0.03040236 0.14542448 1.32365233\n",
      " 1.51993902 1.71961323 0.29405104 1.32772814 0.57724961 0.98947937\n",
      " 1.20694284 0.77197066 0.5503266  1.78702385 1.93945084 1.81046527\n",
      " 1.23247144 0.12473288 1.09167276 1.21603081 1.32531962 1.50389449\n",
      " 0.18046302 1.99473454 0.64798385 0.19878685 0.76223764 0.94525664\n",
      " 1.95664676 1.36357402 1.39114523 1.08684319 1.0648052  0.10709706\n",
      " 1.22338075 0.26127995 1.50450297 1.10440358 0.9323616  0.13473183\n",
      " 1.82799424 0.41097201 0.91722916 0.90553779 0.89661096 0.39712896\n",
      " 1.61354319 1.46799088 0.17607998 0.29068116 0.65202786 0.3077055\n",
      " 0.26153457 1.33522089 0.41622351 0.20638665 0.3957682  0.44612367\n",
      " 1.91050173 1.90149922 1.25111896 1.43187371 1.08403766 0.15009245\n",
      " 1.06562351 1.78286983 1.62468539 1.8866013  1.71631497 0.65642712\n",
      " 0.46258241 1.8227113  1.49411216 0.12768953 0.58798029 0.02486138\n",
      " 0.11182681 1.37937161 0.3862103  0.93106752 1.3639754  1.60419671\n",
      " 0.39964054 0.81056861 1.99567111 1.19929842 0.58173061 1.18518998\n",
      " 1.81569571 1.57031384 0.42099115 1.83023952]\n"
     ]
    }
   ],
   "source": [
    "x = 2 * np.random.random(size=100)\n",
    "print(x)"
   ]
  },
  {
   "cell_type": "code",
   "execution_count": 3,
   "metadata": {},
   "outputs": [
    {
     "name": "stdout",
     "output_type": "stream",
     "text": [
      "[ 9.42378762  5.55771012  6.8402167   8.09894725  5.68813057  9.0473079\n",
      "  4.64629236  6.2923381   6.98289567  3.3047639   5.04514344  7.03994515\n",
      "  9.5380393   8.42192163  4.58342051  7.52259703  4.64295583  6.39266738\n",
      "  5.93792774  6.54509722  3.89435456 10.20570416 10.09557239 10.28429733\n",
      "  7.89201393  5.68483634  8.81886189  7.1190444   7.31948657  8.31017776\n",
      "  3.84077323 10.67134156  5.91787579  3.76660223  6.5832667   6.52309041\n",
      "  9.258639    7.26897056  9.07055838  7.39660819  6.93576081  5.43205683\n",
      "  7.48171787  4.74235056  7.52871699  5.960929    6.99140866  4.67143484\n",
      "  9.05750903  6.68065107  6.55538138  8.2347585   6.76705475  5.12739556\n",
      "  9.78655298  9.60806365  4.07699922  3.28459698  4.08722811  5.02349386\n",
      "  1.68973311 11.39917945  5.12200175  3.6820297   5.75282988  5.65426849\n",
      "  8.93578294 10.20957337  8.078181    9.25643641  7.28238165  5.02633011\n",
      "  7.12695014  9.99410427  8.26846597 11.399055    9.86044905  5.7986313\n",
      "  6.18787726 10.14588899  7.53190789  4.32599195  6.12345162  4.59752979\n",
      "  3.42152144  7.55316554  4.5747072   6.78602094  6.14895959  8.59238784\n",
      "  3.628404    6.24543891 10.25343005  6.9887798   4.6643776   9.12537816\n",
      "  9.35554183  7.81400973  6.39632957 11.21276564]\n"
     ]
    }
   ],
   "source": [
    "np.random.seed(666)\n",
    "y = x * 3. + 4. + np.random.normal(size=100)\n",
    "print(y)"
   ]
  },
  {
   "cell_type": "code",
   "execution_count": 4,
   "metadata": {},
   "outputs": [
    {
     "name": "stdout",
     "output_type": "stream",
     "text": [
      "[[1.53319985]\n",
      " [0.35924804]\n",
      " [0.55558289]\n",
      " [1.06329973]\n",
      " [0.75328401]\n",
      " [1.71893506]\n",
      " [0.20908803]\n",
      " [1.07869972]\n",
      " [0.78077417]\n",
      " [0.03040236]\n",
      " [0.14542448]\n",
      " [1.32365233]\n",
      " [1.51993902]\n",
      " [1.71961323]\n",
      " [0.29405104]\n",
      " [1.32772814]\n",
      " [0.57724961]\n",
      " [0.98947937]\n",
      " [1.20694284]\n",
      " [0.77197066]\n",
      " [0.5503266 ]\n",
      " [1.78702385]\n",
      " [1.93945084]\n",
      " [1.81046527]\n",
      " [1.23247144]\n",
      " [0.12473288]\n",
      " [1.09167276]\n",
      " [1.21603081]\n",
      " [1.32531962]\n",
      " [1.50389449]\n",
      " [0.18046302]\n",
      " [1.99473454]\n",
      " [0.64798385]\n",
      " [0.19878685]\n",
      " [0.76223764]\n",
      " [0.94525664]\n",
      " [1.95664676]\n",
      " [1.36357402]\n",
      " [1.39114523]\n",
      " [1.08684319]\n",
      " [1.0648052 ]\n",
      " [0.10709706]\n",
      " [1.22338075]\n",
      " [0.26127995]\n",
      " [1.50450297]\n",
      " [1.10440358]\n",
      " [0.9323616 ]\n",
      " [0.13473183]\n",
      " [1.82799424]\n",
      " [0.41097201]\n",
      " [0.91722916]\n",
      " [0.90553779]\n",
      " [0.89661096]\n",
      " [0.39712896]\n",
      " [1.61354319]\n",
      " [1.46799088]\n",
      " [0.17607998]\n",
      " [0.29068116]\n",
      " [0.65202786]\n",
      " [0.3077055 ]\n",
      " [0.26153457]\n",
      " [1.33522089]\n",
      " [0.41622351]\n",
      " [0.20638665]\n",
      " [0.3957682 ]\n",
      " [0.44612367]\n",
      " [1.91050173]\n",
      " [1.90149922]\n",
      " [1.25111896]\n",
      " [1.43187371]\n",
      " [1.08403766]\n",
      " [0.15009245]\n",
      " [1.06562351]\n",
      " [1.78286983]\n",
      " [1.62468539]\n",
      " [1.8866013 ]\n",
      " [1.71631497]\n",
      " [0.65642712]\n",
      " [0.46258241]\n",
      " [1.8227113 ]\n",
      " [1.49411216]\n",
      " [0.12768953]\n",
      " [0.58798029]\n",
      " [0.02486138]\n",
      " [0.11182681]\n",
      " [1.37937161]\n",
      " [0.3862103 ]\n",
      " [0.93106752]\n",
      " [1.3639754 ]\n",
      " [1.60419671]\n",
      " [0.39964054]\n",
      " [0.81056861]\n",
      " [1.99567111]\n",
      " [1.19929842]\n",
      " [0.58173061]\n",
      " [1.18518998]\n",
      " [1.81569571]\n",
      " [1.57031384]\n",
      " [0.42099115]\n",
      " [1.83023952]]\n"
     ]
    }
   ],
   "source": [
    "X = x.reshape(-1, 1)\n",
    "print(X)"
   ]
  },
  {
   "cell_type": "code",
   "execution_count": 5,
   "metadata": {},
   "outputs": [
    {
     "data": {
      "image/png": "[encoded data removed]",
      "text/plain": [
       "<Figure size 432x288 with 1 Axes>"
      ]
     },
     "metadata": {
      "needs_background": "light"
     },
     "output_type": "display_data"
    }
   ],
   "source": [
    "plt.scatter(x, y)\n",
    "plt.show()"
   ]
  },
  {
   "cell_type": "markdown",
   "metadata": {},
   "source": [
    "# 使用梯度下降法训练"
   ]
  },
  {
   "cell_type": "code",
   "execution_count": 6,
   "metadata": {},
   "outputs": [],
   "source": [
    "def J(theta, X_b, y):\n",
    "    try:\n",
    "        return np.sum((y - X_b.dot(theta)) ** 2) / len(X_b)\n",
    "    except:\n",
    "        return float('inf')"
   ]
  },
  {
   "cell_type": "code",
   "execution_count": 7,
   "metadata": {},
   "outputs": [],
   "source": [
    "def dJ(theta, X_b, y):\n",
    "    res = np.empty(len(theta))\n",
    "    res[0] = np.sum(X_b.dot(theta) - y)\n",
    "    for i in range(1, len(theta)):\n",
    "        res[i] = (X_b.dot(theta) - y).dot(X_b[:, i])\n",
    "    return res * 2/len(X_b)"
   ]
  },
  {
   "cell_type": "code",
   "execution_count": 8,
   "metadata": {},
   "outputs": [],
   "source": [
    "def gradient_descent(X_b, y, initial_theta, eta, n_iters = 1e4 - 1, epsilon=1e-8):\n",
    "    theta = initial_theta\n",
    "    i_iter = 0\n",
    "    while i_iter < n_iters:\n",
    "        gradient = dJ(theta, X_b, y)\n",
    "        last_theta = theta\n",
    "        theta = theta - eta * gradient\n",
    "\n",
    "        if (abs(J(theta, X_b, y) - J(last_theta, X_b, y)) < epsilon):\n",
    "            break\n",
    "        \n",
    "        i_iter += 1\n",
    "    return theta"
   ]
  },
  {
   "cell_type": "code",
   "execution_count": null,
   "metadata": {},
   "outputs": [],
   "source": []
  },
  {
   "cell_type": "code",
   "execution_count": null,
   "metadata": {},
   "outputs": [],
   "source": []
  },
  {
   "cell_type": "code",
   "execution_count": null,
   "metadata": {},
   "outputs": [],
   "source": []
  },
  {
   "cell_type": "code",
   "execution_count": null,
   "metadata": {},
   "outputs": [],
   "source": []
  },
  {
   "cell_type": "code",
   "execution_count": 9,
   "metadata": {},
   "outputs": [
    {
     "data": {
      "text/plain": [
       "array([3.74001774, 3.25307677])"
      ]
     },
     "execution_count": 9,
     "metadata": {},
     "output_type": "execute_result"
    }
   ],
   "source": [
    "X_b = np.hstack([np.ones((len(X), 1)), x.reshape(-1, 1)])\n",
    "X_b\n",
    "initial_theta = np.zeros(X_b.shape[1])\n",
    "initial_theta\n",
    "eta = 0.1\n",
    "theta = gradient_descent(X_b, y, initial_theta, eta)\n",
    "theta"
   ]
  },
  {
   "cell_type": "code",
   "execution_count": null,
   "metadata": {},
   "outputs": [],
   "source": []
  },
  {
   "cell_type": "markdown",
   "metadata": {},
   "source": [
    "# 使用封装好的方法"
   ]
  },
  {
   "cell_type": "code",
   "execution_count": 10,
   "metadata": {},
   "outputs": [],
   "source": [
    "from playML.LinearRegression import LinearRegression"
   ]
  },
  {
   "cell_type": "code",
   "execution_count": 11,
   "metadata": {},
   "outputs": [],
   "source": [
    "lin_reg = LinearRegression()"
   ]
  },
  {
   "cell_type": "code",
   "execution_count": 12,
   "metadata": {},
   "outputs": [
    {
     "data": {
      "text/plain": [
       "LinearRegression()"
      ]
     },
     "execution_count": 12,
     "metadata": {},
     "output_type": "execute_result"
    }
   ],
   "source": [
    "lin_reg.fit_gd(X, y)"
   ]
  },
  {
   "cell_type": "code",
   "execution_count": 13,
   "metadata": {},
   "outputs": [
    {
     "data": {
      "text/plain": [
       "array([3.25445268])"
      ]
     },
     "execution_count": 13,
     "metadata": {},
     "output_type": "execute_result"
    }
   ],
   "source": [
    "lin_reg.coef_"
   ]
  },
  {
   "cell_type": "code",
   "execution_count": 14,
   "metadata": {},
   "outputs": [
    {
     "data": {
      "text/plain": [
       "3.738394959020484"
      ]
     },
     "execution_count": 14,
     "metadata": {},
     "output_type": "execute_result"
    }
   ],
   "source": [
    "lin_reg.intercept_"
   ]
  },
  {
   "cell_type": "code",
   "execution_count": null,
   "metadata": {},
   "outputs": [],
   "source": []
  }
 ],
 "metadata": {
  "kernelspec": {
   "display_name": "Python 3",
   "language": "python",
   "name": "python3"
  },
  "language_info": {
   "codemirror_mode": {
    "name": "ipython",
    "version": 3
   },
   "file_extension": ".py",
   "mimetype": "text/x-python",
   "name": "python",
   "nbconvert_exporter": "python",
   "pygments_lexer": "ipython3",
   "version": "3.7.0"
  }
 },
 "nbformat": 4,
 "nbformat_minor": 2
}
