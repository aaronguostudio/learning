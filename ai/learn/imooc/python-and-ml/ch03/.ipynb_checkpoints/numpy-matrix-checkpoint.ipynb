{
 "cells": [
  {
   "cell_type": "code",
   "execution_count": 26,
   "metadata": {},
   "outputs": [
    {
     "name": "stdout",
     "output_type": "stream",
     "text": [
      "x >  [1 2 3]\n",
      "y >  [3 2 1]\n",
      "============\n",
      "z >  [1 2 3 3 2 1]\n",
      "============\n",
      "A >  [[1 2 3]\n",
      " [4 5 6]]\n",
      "============\n",
      "A.A >  [[1 2 3]\n",
      " [4 5 6]\n",
      " [1 2 3]\n",
      " [4 5 6]]\n",
      "============\n",
      "A+A >  [[1 2 3 1 2 3]\n",
      " [4 5 6 4 5 6]]\n",
      "============\n",
      "A.x >  [[1 2 3]\n",
      " [4 5 6]\n",
      " [1 2 3]]\n",
      "============\n",
      "B >  [[100 100]\n",
      " [100 100]]\n"
     ]
    },
    {
     "data": {
      "text/plain": [
       "array([[100, 100, 100, 100],\n",
       "       [100, 100, 100, 100]])"
      ]
     },
     "execution_count": 26,
     "metadata": {},
     "output_type": "execute_result"
    }
   ],
   "source": [
    "# 合并操作\n",
    "import numpy as np\n",
    "x = np.array([1, 2, 3])\n",
    "y = np.array([3, 2, 1])\n",
    "print(\"x > \", x)\n",
    "print(\"y > \", y)\n",
    "print(\"============\")\n",
    "\n",
    "# 合并\n",
    "z = np.concatenate([x, y])\n",
    "print(\"z > \", z)\n",
    "print(\"============\")\n",
    "\n",
    "A = np.array([[1, 2, 3], [4, 5, 6]])\n",
    "print(\"A > \", A)\n",
    "print(\"============\")\n",
    "\n",
    "# Default axis=0, 就是拼接到第一个维度上面\n",
    "print(\"A.A > \", np.concatenate([A, A]))\n",
    "print(\"============\")\n",
    "\n",
    "# 拼接到第二个维度上\n",
    "print(\"A+A > \", np.concatenate([A, A], axis=1))\n",
    "print(\"============\")\n",
    "\n",
    "# 现在 A 是一个 2*3 的多维数组，x 是 3*1 的向量，转置 x 之后可以连接他们\n",
    "print(\"A.x > \", np.concatenate([A, x.reshape(1, -1)]))\n",
    "print(\"============\")\n",
    "\n",
    "# vstack 纵向拼接，相比前面的转置之后拼接的方法容错性更好\n",
    "np.vstack([A, x])\n",
    "\n",
    "# hstack 横向拼接\n",
    "B = np.full((2, 2), 100)\n",
    "print(\"B > \", B)\n",
    "np.hstack([B, B])"
   ]
  },
  {
   "cell_type": "markdown",
   "metadata": {},
   "source": [
    "# 分割操作"
   ]
  },
  {
   "cell_type": "code",
   "execution_count": 44,
   "metadata": {},
   "outputs": [
    {
     "name": "stdout",
     "output_type": "stream",
     "text": [
      "x >  [0 1 2 3 4 5 6 7 8 9]\n",
      "x1 >  [0 1 2]\n",
      "x2 >  [3 4 5 6]\n",
      "x3 >  [7 8 9]\n",
      "A >  [[ 0  1  2  3]\n",
      " [ 4  5  6  7]\n",
      " [ 8  9 10 11]\n",
      " [12 13 14 15]]\n",
      "A1 >  [[0 1 2 3]\n",
      " [4 5 6 7]]\n",
      "A2 >  [[ 8  9 10 11]\n",
      " [12 13 14 15]]\n",
      "A1 >  [[ 0  1]\n",
      " [ 4  5]\n",
      " [ 8  9]\n",
      " [12 13]]\n",
      "A2 >  [[ 2  3]\n",
      " [ 6  7]\n",
      " [10 11]\n",
      " [14 15]]\n",
      "upper >  [[0 1 2 3]\n",
      " [4 5 6 7]]\n",
      "lower >  [[ 8  9 10 11]\n",
      " [12 13 14 15]]\n",
      "left >  [[ 0  1]\n",
      " [ 4  5]\n",
      " [ 8  9]\n",
      " [12 13]]\n",
      "right >  [[ 2  3]\n",
      " [ 6  7]\n",
      " [10 11]\n",
      " [14 15]]\n",
      "X >  [[ 0  1  2]\n",
      " [ 4  5  6]\n",
      " [ 8  9 10]\n",
      " [12 13 14]]\n",
      "y >  [[ 3]\n",
      " [ 7]\n",
      " [11]\n",
      " [15]]\n",
      "y 转为向量 [ 3  7 11 15]\n"
     ]
    }
   ],
   "source": [
    "x = np.arange(10)\n",
    "print(\"x > \", x)\n",
    "\n",
    "# 分割点可以是多个数字，代表切割的各个分段点\n",
    "x1, x2, x3 = np.split(x, [3,7])\n",
    "print(\"x1 > \", x1)\n",
    "print(\"x2 > \", x2)\n",
    "print(\"x3 > \", x3)\n",
    "\n",
    "A = np.arange(16).reshape([4, 4])\n",
    "print(\"A > \", A)\n",
    "\n",
    "A1, A2 = np.split(A, [2])\n",
    "print(\"A1 > \", A1)\n",
    "print(\"A2 > \", A2)\n",
    "\n",
    "A1, A2 = np.split(A, [2], axis=1)\n",
    "print(\"A1 > \", A1)\n",
    "print(\"A2 > \", A2)\n",
    "\n",
    "upper, lower = np.vsplit(A, [2])\n",
    "print(\"upper > \", upper)\n",
    "print(\"lower > \", lower)\n",
    "\n",
    "left, right = np.hsplit(A, [2])\n",
    "print(\"left > \", left)\n",
    "print(\"right > \", right)\n",
    "\n",
    "# 这个例子在机器学习中经常使用，比如我们的数据集，前三个列是输入，最后一列是 label, 这样切分之后可以得到 X 和 y\n",
    "X, y = np.hsplit(A, [-1])\n",
    "print(\"X > \", X)\n",
    "print(\"y > \", y)\n",
    "print(\"y 转为向量\", y[:, 0])"
   ]
  },
  {
   "cell_type": "markdown",
   "metadata": {},
   "source": [
    "# 开始于 numpy 的矩阵运算"
   ]
  }
 ],
 "metadata": {
  "kernelspec": {
   "display_name": "Python 3",
   "language": "python",
   "name": "python3"
  },
  "language_info": {
   "codemirror_mode": {
    "name": "ipython",
    "version": 3
   },
   "file_extension": ".py",
   "mimetype": "text/x-python",
   "name": "python",
   "nbconvert_exporter": "python",
   "pygments_lexer": "ipython3",
   "version": "3.7.0"
  }
 },
 "nbformat": 4,
 "nbformat_minor": 2
}
