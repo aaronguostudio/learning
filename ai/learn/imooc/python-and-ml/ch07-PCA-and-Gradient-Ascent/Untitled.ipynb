{
 "cells": [
  {
   "cell_type": "markdown",
   "metadata": {},
   "source": [
    "# PCA and gredient ascent"
   ]
  },
  {
   "cell_type": "markdown",
   "metadata": {},
   "source": [
    "- PCA (Principal Component Analysis) 主成分分析\n",
    "- 一个非监督的机器学习算法\n",
    "- 主要用于数据降维\n",
    "- 提高算法的效率\n",
    "- 通过降维，发现便于人类理解的特征\n",
    "- 其他应用：可视化，去噪"
   ]
  },
  {
   "cell_type": "code",
   "execution_count": null,
   "metadata": {},
   "outputs": [],
   "source": []
  }
 ],
 "metadata": {
  "kernelspec": {
   "display_name": "Python 3",
   "language": "python",
   "name": "python3"
  },
  "language_info": {
   "codemirror_mode": {
    "name": "ipython",
    "version": 3
   },
   "file_extension": ".py",
   "mimetype": "text/x-python",
   "name": "python",
   "nbconvert_exporter": "python",
   "pygments_lexer": "ipython3",
   "version": "3.7.0"
  }
 },
 "nbformat": 4,
 "nbformat_minor": 2
}
